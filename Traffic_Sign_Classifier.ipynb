{
 "cells": [
  {
   "cell_type": "markdown",
   "metadata": {},
   "source": [
    "# Self-Driving Car Engineer Nanodegree\n",
    "\n",
    "## Deep Learning\n",
    "\n",
    "## Project: Build a Traffic Sign Recognition Classifier\n",
    "\n",
    "In this notebook, a template is provided for you to implement your functionality in stages, which is required to successfully complete this project. If additional code is required that cannot be included in the notebook, be sure that the Python code is successfully imported and included in your submission if necessary. \n",
    "\n",
    "> **Note**: Once you have completed all of the code implementations, you need to finalize your work by exporting the iPython Notebook as an HTML document. Before exporting the notebook to html, all of the code cells need to have been run so that reviewers can see the final implementation and output. You can then export the notebook by using the menu above and navigating to  \\n\",\n",
    "    \"**File -> Download as -> HTML (.html)**. Include the finished document along with this notebook as your submission. \n",
    "\n",
    "In addition to implementing code, there is a writeup to complete. The writeup should be completed in a separate file, which can be either a markdown file or a pdf document. There is a [write up template](https://github.com/udacity/CarND-Traffic-Sign-Classifier-Project/blob/master/writeup_template.md) that can be used to guide the writing process. Completing the code template and writeup template will cover all of the [rubric points](https://review.udacity.com/#!/rubrics/481/view) for this project.\n",
    "\n",
    "The [rubric](https://review.udacity.com/#!/rubrics/481/view) contains \"Stand Out Suggestions\" for enhancing the project beyond the minimum requirements. The stand out suggestions are optional. If you decide to pursue the \"stand out suggestions\", you can include the code in this Ipython notebook and also discuss the results in the writeup file.\n",
    "\n",
    "\n",
    ">**Note:** Code and Markdown cells can be executed using the **Shift + Enter** keyboard shortcut. In addition, Markdown cells can be edited by typically double-clicking the cell to enter edit mode."
   ]
  },
  {
   "cell_type": "markdown",
   "metadata": {},
   "source": [
    "---\n",
    "## Step 0: Load The Data"
   ]
  },
  {
   "cell_type": "code",
   "execution_count": 44,
   "metadata": {},
   "outputs": [],
   "source": [
    "# Load pickled data\n",
    "import pickle\n",
    "\n",
    "# TODO: Fill this in based on where you saved the training and testing data\n",
    "\n",
    "training_file = '../data/train.p'\n",
    "validation_file = '../data/valid.p'\n",
    "testing_file = '../data/test.p'\n",
    "\n",
    "with open(training_file, mode='rb') as f:\n",
    "    train = pickle.load(f)\n",
    "with open(validation_file, mode='rb') as f:\n",
    "    valid = pickle.load(f)\n",
    "with open(testing_file, mode='rb') as f:\n",
    "    test = pickle.load(f)\n",
    "    \n",
    "X_train, y_train = train['features'], train['labels']\n",
    "X_valid, y_valid = valid['features'], valid['labels']\n",
    "X_test, y_test = test['features'], test['labels']"
   ]
  },
  {
   "cell_type": "markdown",
   "metadata": {},
   "source": [
    "---\n",
    "\n",
    "## Step 1: Dataset Summary & Exploration\n",
    "\n",
    "The pickled data is a dictionary with 4 key/value pairs:\n",
    "\n",
    "- `'features'` is a 4D array containing raw pixel data of the traffic sign images, (num examples, width, height, channels).\n",
    "- `'labels'` is a 1D array containing the label/class id of the traffic sign. The file `signnames.csv` contains id -> name mappings for each id.\n",
    "- `'sizes'` is a list containing tuples, (width, height) representing the original width and height the image.\n",
    "- `'coords'` is a list containing tuples, (x1, y1, x2, y2) representing coordinates of a bounding box around the sign in the image. **THESE COORDINATES ASSUME THE ORIGINAL IMAGE. THE PICKLED DATA CONTAINS RESIZED VERSIONS (32 by 32) OF THESE IMAGES**\n",
    "\n",
    "Complete the basic data summary below. Use python, numpy and/or pandas methods to calculate the data summary rather than hard coding the results. For example, the [pandas shape method](http://pandas.pydata.org/pandas-docs/stable/generated/pandas.DataFrame.shape.html) might be useful for calculating some of the summary results. "
   ]
  },
  {
   "cell_type": "markdown",
   "metadata": {},
   "source": [
    "### Provide a Basic Summary of the Data Set Using Python, Numpy and/or Pandas"
   ]
  },
  {
   "cell_type": "code",
   "execution_count": 45,
   "metadata": {},
   "outputs": [
    {
     "name": "stdout",
     "output_type": "stream",
     "text": [
      "Number of training examples = 34799\n",
      "Number of validation examples = 4410\n",
      "Number of testing examples = 12630\n",
      "Image data shape = (32, 32)\n",
      "Number of classes = 43\n",
      "\n",
      "training class counts: Counter({2: 2010, 1: 1980, 13: 1920, 12: 1890, 38: 1860, 10: 1800, 4: 1770, 5: 1650, 25: 1350, 9: 1320, 7: 1290, 3: 1260, 8: 1260, 11: 1170, 35: 1080, 18: 1080, 17: 990, 31: 690, 14: 690, 33: 599, 26: 540, 15: 540, 28: 480, 23: 450, 30: 390, 16: 360, 34: 360, 6: 360, 36: 330, 22: 330, 40: 300, 20: 300, 39: 270, 21: 270, 29: 240, 24: 240, 41: 210, 42: 210, 32: 210, 27: 210, 37: 180, 19: 180, 0: 180})\n"
     ]
    }
   ],
   "source": [
    "### Replace each question mark with the appropriate value. \n",
    "### Use python, pandas or numpy methods rather than hard coding the results\n",
    "\n",
    "\n",
    "# TODO: Number of training examples\n",
    "N, W, H, Ch = X_train.shape\n",
    "n_train = N\n",
    "assert(N==len(y_train))\n",
    "\n",
    "# TODO: Number of validation examples\n",
    "N, W, H, Ch = X_valid.shape\n",
    "n_validation = N\n",
    "assert(N==len(y_valid))\n",
    "\n",
    "# TODO: Number of testing examples.\n",
    "N, W, H, Ch = X_test.shape\n",
    "n_test = N\n",
    "assert(N==len(y_test))\n",
    "\n",
    "# TODO: What's the shape of an traffic sign image?\n",
    "image_shape = W, H\n",
    "\n",
    "# TODO: How many unique classes/labels there are in the dataset.\n",
    "from collections import Counter\n",
    "c = Counter(y_train)\n",
    "n_classes = len(c)\n",
    "\n",
    "print(\"Number of training examples =\", n_train)\n",
    "print(\"Number of validation examples =\", n_validation)\n",
    "print(\"Number of testing examples =\", n_test)\n",
    "print(\"Image data shape =\", image_shape)\n",
    "print(\"Number of classes =\", n_classes)\n",
    "print()\n",
    "print('training class counts:', c)\n",
    "\n",
    "c_valid = Counter(y_valid)\n",
    "c_test = Counter(y_test)"
   ]
  },
  {
   "cell_type": "markdown",
   "metadata": {},
   "source": [
    "### Include an exploratory visualization of the dataset"
   ]
  },
  {
   "cell_type": "markdown",
   "metadata": {},
   "source": [
    "Visualize the German Traffic Signs Dataset using the pickled file(s). This is open ended, suggestions include: plotting traffic sign images, plotting the count of each sign, etc. \n",
    "\n",
    "The [Matplotlib](http://matplotlib.org/) [examples](http://matplotlib.org/examples/index.html) and [gallery](http://matplotlib.org/gallery.html) pages are a great resource for doing visualizations in Python.\n",
    "\n",
    "**NOTE:** It's recommended you start with something simple first. If you wish to do more, come back to it after you've completed the rest of the sections. It can be interesting to look at the distribution of classes in the training, validation and test set. Is the distribution the same? Are there more examples of some classes than others?"
   ]
  },
  {
   "cell_type": "code",
   "execution_count": 46,
   "metadata": {},
   "outputs": [
    {
     "name": "stdout",
     "output_type": "stream",
     "text": [
      "Most Common training classes:\n",
      "[(2, 2010), (1, 1980), (13, 1920), (12, 1890), (38, 1860), (10, 1800), (4, 1770), (5, 1650), (25, 1350), (9, 1320), (7, 1290), (3, 1260), (8, 1260), (11, 1170), (35, 1080), (18, 1080), (17, 990), (31, 690), (14, 690), (33, 599), (26, 540), (15, 540), (28, 480), (23, 450), (30, 390), (16, 360), (34, 360), (6, 360), (36, 330), (22, 330), (40, 300), (20, 300), (39, 270), (21, 270), (29, 240), (24, 240), (41, 210), (42, 210), (32, 210), (27, 210), (37, 180), (19, 180), (0, 180)]\n",
      "\n",
      "17 most common classes are 73.795% of the data set\n",
      "average pixel= [ 0.67732908  0.62106204  0.63936488]\n"
     ]
    },
    {
     "data": {
      "text/plain": [
       "Text(0,0.5,'Count')"
      ]
     },
     "execution_count": 46,
     "metadata": {},
     "output_type": "execute_result"
    },
    {
     "data": {
      "image/png": "[encoded data removed]",
      "text/plain": [
       "<matplotlib.figure.Figure at 0x7f834dc95be0>"
      ]
     },
     "metadata": {
      "needs_background": "light"
     },
     "output_type": "display_data"
    },
    {
     "data": {
      "image/png": "[encoded data removed]",
      "text/plain": [
       "<matplotlib.figure.Figure at 0x7f82e3926048>"
      ]
     },
     "metadata": {
      "needs_background": "light"
     },
     "output_type": "display_data"
    },
    {
     "data": {
      "image/png": "[encoded data removed]",
      "text/plain": [
       "<matplotlib.figure.Figure at 0x7f82e388a9e8>"
      ]
     },
     "metadata": {
      "needs_background": "light"
     },
     "output_type": "display_data"
    },
    {
     "data": {
      "image/png": "[encoded data removed]",
      "text/plain": [
       "<matplotlib.figure.Figure at 0x7f82e3934470>"
      ]
     },
     "metadata": {
      "needs_background": "light"
     },
     "output_type": "display_data"
    },
    {
     "data": {
      "image/png": "[encoded data removed]",
      "text/plain": [
       "<matplotlib.figure.Figure at 0x7f8342834940>"
      ]
     },
     "metadata": {
      "needs_background": "light"
     },
     "output_type": "display_data"
    },
    {
     "data": {
      "image/png": "[encoded data removed]",
      "text/plain": [
       "<matplotlib.figure.Figure at 0x7f83426db860>"
      ]
     },
     "metadata": {
      "needs_background": "light"
     },
     "output_type": "display_data"
    },
    {
     "data": {
      "image/png": "[encoded data removed]",
      "text/plain": [
       "<matplotlib.figure.Figure at 0x7f835043c4a8>"
      ]
     },
     "metadata": {
      "needs_background": "light"
     },
     "output_type": "display_data"
    },
    {
     "data": {
      "image/png": "[encoded data removed]",
      "text/plain": [
       "<matplotlib.figure.Figure at 0x7f83502d7278>"
      ]
     },
     "metadata": {
      "needs_background": "light"
     },
     "output_type": "display_data"
    }
   ],
   "source": [
    "### Data exploration visualization code goes here.\n",
    "### Feel free to use as many code cells as needed.\n",
    "import matplotlib.pyplot as plt\n",
    "# Visualizations will be shown in the notebook.\n",
    "%matplotlib inline\n",
    "import csv\n",
    "import random\n",
    "import numpy as np\n",
    "\n",
    "index = random.randint(0, len(X_train))\n",
    "#index=24644\n",
    "image = X_train[index].squeeze()\n",
    "\n",
    "signs = {}\n",
    "with open('./signnames.csv', newline='') as csvfile:\n",
    "    signreader = csv.reader(csvfile, delimiter=',')\n",
    "    for row in signreader:\n",
    "        try:\n",
    "            signs[int(row[0])] = row[1]\n",
    "        except ValueError:\n",
    "            continue\n",
    "\n",
    "plt.figure(figsize=(1,1))\n",
    "plt.imshow(image, cmap=\"gray\")\n",
    "plt.title('{0}: {1}'.format(y_train[index], signs[y_train[index]]))\n",
    "\n",
    "plt.figure(2)\n",
    "plt.hist(sorted(c.elements()), bins=range(n_classes))\n",
    "plt.ylabel('Count')\n",
    "plt.xlabel('Class index')\n",
    "plt.title('Histogram of Training Class Labels')\n",
    "\n",
    "plt.figure(7)\n",
    "plt.hist(sorted(c_valid.elements()), bins=range(n_classes))\n",
    "plt.ylabel('Count')\n",
    "plt.xlabel('Class index')\n",
    "plt.title('Histogram of Validation Class Labels')\n",
    "\n",
    "plt.figure(8)\n",
    "plt.hist(sorted(c_test.elements()), bins=range(n_classes))\n",
    "plt.ylabel('Count')\n",
    "plt.xlabel('Class index')\n",
    "plt.title('Histogram of Test Class Labels')\n",
    "\n",
    "print('Most Common training classes:')\n",
    "print(c.most_common())\n",
    "print()\n",
    "print('17 most common classes are %.3f%% of the data set' % (100.0*sum([j for i,j in c.most_common(17)])/float(sum(c.values()))))\n",
    "plt.savefig('class_labels.png')\n",
    "\n",
    "plt.figure(3)\n",
    "average_pixel = np.mean(X_train, axis=0)\n",
    "plt.imshow(average_pixel, cmap='gray')\n",
    "plt.title('Average pixels in the training set')\n",
    "print('average pixel=', np.mean(np.mean(average_pixel, axis=0), axis=0)/128)\n",
    "\n",
    "#S = np.std(np.std(X_train/128.0, axis=1), axis=1)\n",
    "#print('S.shape:', S.shape)\n",
    "#loR = set(np.where(S[:,0] < 0.005)[0])\n",
    "#loG = set(np.where(S[:,1] < 0.01)[0])\n",
    "#loB = set(np.where(S[:,2] < 0.01)[0])\n",
    "#print('S[index,:]=', S[index,:])\n",
    "#print()\n",
    "#print('|loR|=', len(loR))\n",
    "#print('|loG|=', len(loG))\n",
    "#print('|loB|=', len(loB))\n",
    "#print()\n",
    "#print('loR=',loR)\n",
    "#print('loG=',loG)\n",
    "#print('loB=',loB)\n",
    "#print()\n",
    "#lo_std = (loR|loG|loB) - (loR^loG^loB)\n",
    "#print('lo_std=',lo_std)\n",
    "#print('|lo_std|=',len(lo_std))\n",
    "#keep = list(set(range(n_train)) - lo_std)\n",
    "#print('|keep|=',len(keep))\n",
    "##X_train = X_train[keep]\n",
    "##y_train = y_train[keep]\n",
    "##print('X_train.shape:', X_train.shape)\n",
    "##print('y_train.shape:', y_train.shape)\n",
    "\n",
    "plt.figure(4)\n",
    "plt.hist(S[:,0], 0.003*np.array(range(100)))\n",
    "plt.title('R channel std dev histogram')\n",
    "plt.xlabel('Std Dev')\n",
    "plt.ylabel('Count')\n",
    "\n",
    "plt.figure(5)\n",
    "plt.hist(S[:,1], 0.003*np.array(range(100)))\n",
    "plt.title('G channel std dev histogram')\n",
    "plt.xlabel('Std Dev')\n",
    "plt.ylabel('Count')\n",
    "\n",
    "plt.figure(6)\n",
    "plt.hist(S[:,2], 0.003*np.array(range(100)))\n",
    "plt.title('B channel std dev histogram')\n",
    "plt.xlabel('Std Dev')\n",
    "plt.ylabel('Count')\n",
    "\n",
    "\n"
   ]
  },
  {
   "cell_type": "markdown",
   "metadata": {},
   "source": [
    "----\n",
    "\n",
    "## Step 2: Design and Test a Model Architecture\n",
    "\n",
    "Design and implement a deep learning model that learns to recognize traffic signs. Train and test your model on the [German Traffic Sign Dataset](http://benchmark.ini.rub.de/?section=gtsrb&subsection=dataset).\n",
    "\n",
    "The LeNet-5 implementation shown in the [classroom](https://classroom.udacity.com/nanodegrees/nd013/parts/fbf77062-5703-404e-b60c-95b78b2f3f9e/modules/6df7ae49-c61c-4bb2-a23e-6527e69209ec/lessons/601ae704-1035-4287-8b11-e2c2716217ad/concepts/d4aca031-508f-4e0b-b493-e7b706120f81) at the end of the CNN lesson is a solid starting point. You'll have to change the number of classes and possibly the preprocessing, but aside from that it's plug and play! \n",
    "\n",
    "With the LeNet-5 solution from the lecture, you should expect a validation set accuracy of about 0.89. To meet specifications, the validation set accuracy will need to be at least 0.93. It is possible to get an even higher accuracy, but 0.93 is the minimum for a successful project submission. \n",
    "\n",
    "There are various aspects to consider when thinking about this problem:\n",
    "\n",
    "- Neural network architecture (is the network over or underfitting?)\n",
    "- Play around preprocessing techniques (normalization, rgb to grayscale, etc)\n",
    "- Number of examples per label (some have more than others).\n",
    "- Generate fake data.\n",
    "\n",
    "Here is an example of a [published baseline model on this problem](http://yann.lecun.com/exdb/publis/pdf/sermanet-ijcnn-11.pdf). It's not required to be familiar with the approach used in the paper but, it's good practice to try to read papers like these."
   ]
  },
  {
   "cell_type": "markdown",
   "metadata": {},
   "source": [
    "### Pre-process the Data Set (normalization, grayscale, etc.)"
   ]
  },
  {
   "cell_type": "markdown",
   "metadata": {},
   "source": [
    "Minimally, the image data should be normalized so that the data has mean zero and equal variance. For image data, `(pixel - 128)/ 128` is a quick way to approximately normalize the data and can be used in this project. \n",
    "\n",
    "Other pre-processing steps are optional. You can try different techniques to see if it improves performance. \n",
    "\n",
    "Use the code cell (or multiple code cells, if necessary) to implement the first step of your project."
   ]
  },
  {
   "cell_type": "code",
   "execution_count": 47,
   "metadata": {
    "scrolled": true
   },
   "outputs": [
    {
     "name": "stdout",
     "output_type": "stream",
     "text": [
      "Training Data:\n",
      "mean= -0.352577344082\n",
      "std dev= 0.530224714412\n",
      "\n",
      "Validation Data:\n",
      "mean= -0.345408538547\n",
      "std dev= 0.546768757016\n",
      "\n",
      "Test Data:\n",
      "mean= -0.357979031352\n",
      "std dev= 0.53712458\n",
      "\n",
      "Number of training examples = 34687\n",
      "Number of validation examples = 4387\n",
      "Number of testing examples = 12622\n",
      "Image data shape = (32, 32)\n",
      "Number of classes = 43\n",
      "\n",
      "class counts: Counter({2: 2010, 1: 1979, 13: 1906, 12: 1890, 38: 1847, 10: 1795, 4: 1765, 5: 1649, 25: 1344, 9: 1312, 7: 1274, 8: 1260, 3: 1247, 11: 1158, 18: 1079, 35: 1076, 17: 989, 14: 690, 31: 687, 33: 596, 26: 540, 15: 540, 28: 480, 23: 450, 30: 390, 16: 360, 34: 360, 6: 357, 36: 330, 22: 330, 20: 300, 40: 300, 39: 270, 21: 270, 29: 240, 24: 240, 32: 210, 42: 210, 27: 210, 41: 210, 37: 180, 0: 180, 19: 177})\n"
     ]
    }
   ],
   "source": [
    "### Preprocess the data here. It is required to normalize the data. Other preprocessing steps could include \n",
    "### converting to grayscale, etc.\n",
    "### Feel free to use as many code cells as needed.\n",
    "from sklearn.utils import shuffle\n",
    "import numpy as np\n",
    "\n",
    "def prune(Xdata, Ydata):\n",
    "    S = np.std(np.std(Xdata/128.0, axis=1), axis=1)\n",
    "    N, M = S.shape\n",
    "    loR = set(np.where(S[:,0] < 0.005)[0])\n",
    "    loG = set(np.where(S[:,1] < 0.01)[0])\n",
    "    loB = set(np.where(S[:,2] < 0.01)[0])\n",
    "    lo_std = (loR|loG|loB) - (loR^loG^loB)\n",
    "    keep = list(set(range(N)) - lo_std)\n",
    "    Xpruned = Xdata[keep]\n",
    "    Ypruned = Ydata[keep]\n",
    "    return Xpruned, Ypruned\n",
    "\n",
    "\n",
    "def normalize_and_shuffle(Xdata, Ydata):\n",
    "    X, Y = shuffle(Xdata, Ydata)\n",
    "    X = X/128.0\n",
    "#    N, W, H, Ch = X.shape\n",
    "#    for i in range(N):\n",
    "    #mu = np.mean(np.mean(average_pixel, axis=0), axis=0)/128\n",
    "#    X[:,:,:] = X[:,:,:] - mu\n",
    "#    mu = np.mean(X)\n",
    "    mu = 1.0\n",
    "    X = X - mu\n",
    "    return X, Y\n",
    "\n",
    "X_train, y_train = normalize_and_shuffle(*prune(X_train, y_train))\n",
    "\n",
    "print('Training Data:')\n",
    "print('mean=', np.mean(X_train, axis=None))\n",
    "print('std dev=', np.std(X_train, axis=None))\n",
    "print()\n",
    "\n",
    "X_valid, y_valid = normalize_and_shuffle(*prune(X_valid, y_valid))\n",
    "\n",
    "print('Validation Data:')\n",
    "print('mean=', np.mean(X_valid, axis=None))\n",
    "print('std dev=', np.std(X_valid, axis=None))\n",
    "print()\n",
    "\n",
    "X_test, y_test = normalize_and_shuffle(*prune(X_test, y_test))\n",
    "\n",
    "print('Test Data:')\n",
    "print('mean=', np.mean(X_test, axis=None))\n",
    "print('std dev=', np.std(X_test, axis=None))\n",
    "print()\n",
    "\n",
    "Nchannels = 3\n",
    "\n",
    "# TODO: Number of training examples\n",
    "N, W, H, Ch = X_train.shape\n",
    "n_train = N\n",
    "assert(N==len(y_train))\n",
    "\n",
    "# TODO: Number of validation examples\n",
    "N, W, H, Ch = X_valid.shape\n",
    "n_validation = N\n",
    "assert(N==len(y_valid))\n",
    "\n",
    "# TODO: Number of testing examples.\n",
    "N, W, H, Ch = X_test.shape\n",
    "n_test = N\n",
    "assert(N==len(y_test))\n",
    "\n",
    "# TODO: What's the shape of an traffic sign image?\n",
    "image_shape = W, H\n",
    "\n",
    "# TODO: How many unique classes/labels there are in the dataset.\n",
    "from collections import Counter\n",
    "c = Counter(y_train)\n",
    "n_classes = len(c)\n",
    "\n",
    "print(\"Number of training examples =\", n_train)\n",
    "print(\"Number of validation examples =\", n_validation)\n",
    "print(\"Number of testing examples =\", n_test)\n",
    "print(\"Image data shape =\", image_shape)\n",
    "print(\"Number of classes =\", n_classes)\n",
    "print()\n",
    "print('class counts:', c)"
   ]
  },
  {
   "cell_type": "markdown",
   "metadata": {},
   "source": [
    "### Model Architecture"
   ]
  },
  {
   "cell_type": "code",
   "execution_count": 48,
   "metadata": {},
   "outputs": [],
   "source": [
    "### Define your architecture here.\n",
    "### Feel free to use as many code cells as needed.\n",
    "\n",
    "import tensorflow as tf\n",
    "from tensorflow.contrib.layers import flatten\n",
    "\n",
    "EPOCHS = 5\n",
    "BATCH_SIZE = 128\n",
    "\n",
    "def LeNet(x):    \n",
    "    # Arguments used for tf.truncated_normal, randomly defines variables for the weights and biases for each layer\n",
    "    mu = 0\n",
    "    sigma = 0.1\n",
    "    \n",
    "    # SOLUTION: Layer 1: Convolutional. Input = 32x32x3. Output = 28x28x6.\n",
    "    conv1_W = tf.Variable(tf.truncated_normal(shape=(5, 5, Nchannels, 6), mean = mu, stddev = sigma))\n",
    "    conv1_b = tf.Variable(tf.zeros(6))\n",
    "    conv1   = tf.nn.conv2d(x, conv1_W, strides=[1, 1, 1, 1], padding='VALID') + conv1_b\n",
    "\n",
    "    # SOLUTION: Activation.\n",
    "    conv1 = tf.nn.relu(conv1)\n",
    "\n",
    "    # SOLUTION: Pooling. Input = 28x28x6. Output = 14x14x6.\n",
    "    conv1 = tf.nn.max_pool(conv1, ksize=[1, 2, 2, 1], strides=[1, 2, 2, 1], padding='VALID')\n",
    "\n",
    "    # SOLUTION: Layer 2: Convolutional. Output = 10x10x16.\n",
    "    conv2_W = tf.Variable(tf.truncated_normal(shape=(5, 5, 6, 16), mean = mu, stddev = sigma))\n",
    "    conv2_b = tf.Variable(tf.zeros(16))\n",
    "    conv2   = tf.nn.conv2d(conv1, conv2_W, strides=[1, 1, 1, 1], padding='VALID') + conv2_b\n",
    "    \n",
    "    # SOLUTION: Activation.\n",
    "    conv2 = tf.nn.relu(conv2)\n",
    "\n",
    "    # SOLUTION: Pooling. Input = 10x10x16. Output = 5x5x16.\n",
    "    conv2 = tf.nn.max_pool(conv2, ksize=[1, 2, 2, 1], strides=[1, 2, 2, 1], padding='VALID')\n",
    "\n",
    "    # SOLUTION: Flatten. Input = 5x5x16. Output = 400.\n",
    "    fc0   = flatten(conv2)\n",
    "    \n",
    "    # SOLUTION: Layer 3: Fully Connected. Input = 400. Output = 8*n_classes.\n",
    "    fc1_W = tf.Variable(tf.truncated_normal(shape=(400, 12*n_classes), mean = mu, stddev = sigma))\n",
    "    fc1_b = tf.Variable(tf.zeros(12*n_classes))\n",
    "    fc1   = tf.matmul(fc0, fc1_W) + fc1_b\n",
    "    \n",
    "    # SOLUTION: Activation.\n",
    "    fc1    = tf.nn.relu(fc1)\n",
    "\n",
    "    # SOLUTION: Layer 4: Fully Connected. Input = 8*n_classes. Output = 4*n_classes.\n",
    "    fc2_W  = tf.Variable(tf.truncated_normal(shape=(12*n_classes, 8*n_classes), mean = mu, stddev = sigma))\n",
    "    fc2_b  = tf.Variable(tf.zeros(8*n_classes))\n",
    "    fc2    = tf.matmul(fc1, fc2_W) + fc2_b\n",
    "    \n",
    "    # SOLUTION: Activation.\n",
    "    fc2    = tf.nn.relu(fc2)\n",
    "\n",
    "    # SOLUTION: Layer 5: Fully Connected. Input = 4*n_classes. Output = n_classes.\n",
    "    fc3_W  = tf.Variable(tf.truncated_normal(shape=(8*n_classes, n_classes), mean = mu, stddev = sigma))\n",
    "    fc3_b  = tf.Variable(tf.zeros(n_classes))\n",
    "    logits = tf.matmul(fc2, fc3_W) + fc3_b\n",
    "    \n",
    "    return logits"
   ]
  },
  {
   "cell_type": "code",
   "execution_count": 49,
   "metadata": {},
   "outputs": [],
   "source": [
    "x = tf.placeholder(tf.float32, (None, 32, 32, Nchannels))\n",
    "y = tf.placeholder(tf.int32, (None))\n",
    "one_hot_y = tf.one_hot(y, n_classes)"
   ]
  },
  {
   "cell_type": "code",
   "execution_count": 50,
   "metadata": {},
   "outputs": [],
   "source": [
    "rate = 0.001\n",
    "\n",
    "logits = LeNet(x)\n",
    "cross_entropy = tf.nn.softmax_cross_entropy_with_logits(labels=one_hot_y, logits=logits)\n",
    "loss_operation = tf.reduce_mean(cross_entropy)\n",
    "optimizer = tf.train.AdamOptimizer(learning_rate = rate)\n",
    "training_operation = optimizer.minimize(loss_operation)"
   ]
  },
  {
   "cell_type": "code",
   "execution_count": 51,
   "metadata": {},
   "outputs": [],
   "source": [
    "correct_prediction = tf.equal(tf.argmax(logits, 1), tf.argmax(one_hot_y, 1))\n",
    "accuracy_operation = tf.reduce_mean(tf.cast(correct_prediction, tf.float32))\n",
    "saver = tf.train.Saver()\n",
    "\n",
    "def evaluate(X_data, y_data):\n",
    "    num_examples = len(X_data)\n",
    "    total_accuracy = 0\n",
    "    sess = tf.get_default_session()\n",
    "    for offset in range(0, num_examples, BATCH_SIZE):\n",
    "        batch_x, batch_y = X_data[offset:offset+BATCH_SIZE], y_data[offset:offset+BATCH_SIZE]\n",
    "        accuracy = sess.run(accuracy_operation, feed_dict={x: batch_x, y: batch_y})\n",
    "        total_accuracy += (accuracy * len(batch_x))\n",
    "    return total_accuracy / num_examples"
   ]
  },
  {
   "cell_type": "code",
   "execution_count": 52,
   "metadata": {},
   "outputs": [],
   "source": [
    "mistake_prediction = tf.not_equal(tf.argmax(logits, 1), tf.argmax(one_hot_y, 1))\n",
    "\n",
    "def find_mistakes(X_data, y_data):\n",
    "    num_examples = len(X_data)\n",
    "    idx_mistakes = []\n",
    "    sess = tf.get_default_session()\n",
    "    for offset in range(0, num_examples, BATCH_SIZE):\n",
    "        sess.run(tf.global_variables_initializer())\n",
    "        batch_x, batch_y = X_data[offset:offset+BATCH_SIZE], y_data[offset:offset+BATCH_SIZE]\n",
    "        mistakes = sess.run(mistake_prediction, feed_dict={x: batch_x, y: batch_y})\n",
    "        idx_k_mistakes = np.argwhere(mistakes==False)\n",
    "        idx_k_mistakes = idx_k_mistakes[:,0]\n",
    "        idx_mistakes = np.append(idx_mistakes,idx_k_mistakes+offset)\n",
    "    return idx_mistakes"
   ]
  },
  {
   "cell_type": "markdown",
   "metadata": {},
   "source": [
    "### Train, Validate and Test the Model"
   ]
  },
  {
   "cell_type": "markdown",
   "metadata": {},
   "source": [
    "A validation set can be used to assess how well the model is performing. A low accuracy on the training and validation\n",
    "sets imply underfitting. A high accuracy on the training set but low accuracy on the validation set implies overfitting."
   ]
  },
  {
   "cell_type": "code",
   "execution_count": 54,
   "metadata": {},
   "outputs": [
    {
     "name": "stdout",
     "output_type": "stream",
     "text": [
      "Training (5 batches of 128)...\n",
      "\n",
      "EPOCH 1 ...\n",
      "Validation Accuracy = 0.854\n",
      "EPOCH 2 ...\n",
      "Validation Accuracy = 0.851\n",
      "EPOCH 3 ...\n",
      "Validation Accuracy = 0.820\n",
      "EPOCH 4 ...\n",
      "Validation Accuracy = 0.816\n",
      "EPOCH 5 ...\n",
      "Validation Accuracy = 0.825\n",
      "\n",
      "mistake_count= Counter({89: 3, 174: 3, 781: 3, 994: 3, 1056: 3, 1080: 3, 1106: 3, 1121: 3, 1427: 3, 1460: 3, 1703: 3, 1746: 3, 1761: 3, 1774: 3, 1908: 3, 2055: 3, 2075: 3, 2491: 3, 2789: 3, 3030: 3, 3417: 3, 3444: 3, 3475: 3, 3568: 3, 3839: 3, 3982: 3, 4220: 3, 4245: 3, 4262: 3, 4271: 3, 4311: 3, 4337: 3, 8: 2, 22: 2, 31: 2, 41: 2, 48: 2, 51: 2, 61: 2, 77: 2, 95: 2, 96: 2, 105: 2, 106: 2, 122: 2, 124: 2, 137: 2, 152: 2, 172: 2, 210: 2, 268: 2, 289: 2, 311: 2, 326: 2, 329: 2, 340: 2, 348: 2, 354: 2, 358: 2, 374: 2, 392: 2, 396: 2, 399: 2, 405: 2, 416: 2, 423: 2, 427: 2, 434: 2, 436: 2, 437: 2, 441: 2, 442: 2, 447: 2, 454: 2, 464: 2, 471: 2, 476: 2, 478: 2, 481: 2, 482: 2, 495: 2, 500: 2, 504: 2, 508: 2, 512: 2, 548: 2, 556: 2, 562: 2, 576: 2, 580: 2, 605: 2, 608: 2, 618: 2, 621: 2, 629: 2, 631: 2, 636: 2, 640: 2, 644: 2, 659: 2, 670: 2, 679: 2, 680: 2, 687: 2, 698: 2, 700: 2, 706: 2, 722: 2, 733: 2, 750: 2, 756: 2, 768: 2, 771: 2, 777: 2, 778: 2, 788: 2, 789: 2, 804: 2, 811: 2, 830: 2, 834: 2, 838: 2, 840: 2, 845: 2, 848: 2, 865: 2, 866: 2, 900: 2, 908: 2, 910: 2, 914: 2, 927: 2, 932: 2, 933: 2, 936: 2, 939: 2, 943: 2, 945: 2, 949: 2, 958: 2, 960: 2, 974: 2, 977: 2, 978: 2, 1003: 2, 1010: 2, 1026: 2, 1036: 2, 1039: 2, 1045: 2, 1097: 2, 1131: 2, 1142: 2, 1144: 2, 1147: 2, 1167: 2, 1173: 2, 1175: 2, 1178: 2, 1192: 2, 1198: 2, 1207: 2, 1219: 2, 1224: 2, 1232: 2, 1263: 2, 1266: 2, 1277: 2, 1283: 2, 1291: 2, 1312: 2, 1314: 2, 1322: 2, 1328: 2, 1332: 2, 1334: 2, 1348: 2, 1352: 2, 1356: 2, 1358: 2, 1362: 2, 1364: 2, 1384: 2, 1394: 2, 1401: 2, 1404: 2, 1417: 2, 1425: 2, 1431: 2, 1441: 2, 1447: 2, 1475: 2, 1489: 2, 1524: 2, 1531: 2, 1535: 2, 1543: 2, 1559: 2, 1569: 2, 1571: 2, 1574: 2, 1577: 2, 1579: 2, 1582: 2, 1588: 2, 1594: 2, 1595: 2, 1617: 2, 1630: 2, 1635: 2, 1637: 2, 1639: 2, 1640: 2, 1645: 2, 1647: 2, 1660: 2, 1680: 2, 1684: 2, 1694: 2, 1718: 2, 1729: 2, 1740: 2, 1759: 2, 1764: 2, 1794: 2, 1800: 2, 1815: 2, 1834: 2, 1840: 2, 1851: 2, 1853: 2, 1854: 2, 1866: 2, 1881: 2, 1883: 2, 1895: 2, 1896: 2, 1900: 2, 1909: 2, 1915: 2, 1920: 2, 1921: 2, 1925: 2, 1928: 2, 1929: 2, 1935: 2, 1942: 2, 1951: 2, 1953: 2, 1955: 2, 1977: 2, 1979: 2, 1996: 2, 2030: 2, 2037: 2, 2086: 2, 2087: 2, 2089: 2, 2091: 2, 2094: 2, 2098: 2, 2101: 2, 2108: 2, 2119: 2, 2121: 2, 2122: 2, 2123: 2, 2127: 2, 2128: 2, 2129: 2, 2130: 2, 2142: 2, 2151: 2, 2156: 2, 2164: 2, 2173: 2, 2190: 2, 2198: 2, 2202: 2, 2204: 2, 2231: 2, 2243: 2, 2267: 2, 2278: 2, 2296: 2, 2299: 2, 2311: 2, 2326: 2, 2344: 2, 2366: 2, 2368: 2, 2371: 2, 2381: 2, 2395: 2, 2397: 2, 2406: 2, 2412: 2, 2429: 2, 2439: 2, 2452: 2, 2464: 2, 2482: 2, 2488: 2, 2516: 2, 2543: 2, 2557: 2, 2558: 2, 2564: 2, 2582: 2, 2587: 2, 2604: 2, 2611: 2, 2613: 2, 2652: 2, 2656: 2, 2675: 2, 2677: 2, 2689: 2, 2693: 2, 2696: 2, 2701: 2, 2716: 2, 2717: 2, 2731: 2, 2732: 2, 2742: 2, 2748: 2, 2750: 2, 2759: 2, 2780: 2, 2793: 2, 2803: 2, 2824: 2, 2826: 2, 2836: 2, 2838: 2, 2839: 2, 2851: 2, 2863: 2, 2866: 2, 2869: 2, 2871: 2, 2911: 2, 2919: 2, 2921: 2, 2928: 2, 2947: 2, 2948: 2, 2957: 2, 2959: 2, 2967: 2, 2981: 2, 3000: 2, 3003: 2, 3010: 2, 3014: 2, 3032: 2, 3043: 2, 3045: 2, 3051: 2, 3069: 2, 3073: 2, 3088: 2, 3099: 2, 3108: 2, 3109: 2, 3110: 2, 3129: 2, 3132: 2, 3133: 2, 3151: 2, 3153: 2, 3171: 2, 3172: 2, 3175: 2, 3186: 2, 3189: 2, 3211: 2, 3213: 2, 3222: 2, 3234: 2, 3240: 2, 3244: 2, 3251: 2, 3256: 2, 3285: 2, 3287: 2, 3288: 2, 3301: 2, 3314: 2, 3318: 2, 3319: 2, 3329: 2, 3330: 2, 3336: 2, 3339: 2, 3354: 2, 3362: 2, 3365: 2, 3369: 2, 3375: 2, 3376: 2, 3381: 2, 3396: 2, 3402: 2, 3405: 2, 3409: 2, 3410: 2, 3412: 2, 3421: 2, 3422: 2, 3425: 2, 3426: 2, 3429: 2, 3449: 2, 3452: 2, 3457: 2, 3458: 2, 3463: 2, 3490: 2, 3508: 2, 3532: 2, 3533: 2, 3535: 2, 3549: 2, 3578: 2, 3582: 2, 3583: 2, 3585: 2, 3615: 2, 3617: 2, 3624: 2, 3641: 2, 3670: 2, 3698: 2, 3726: 2, 3728: 2, 3729: 2, 3733: 2, 3739: 2, 3742: 2, 3749: 2, 3762: 2, 3779: 2, 3785: 2, 3787: 2, 3799: 2, 3800: 2, 3807: 2, 3808: 2, 3813: 2, 3816: 2, 3830: 2, 3832: 2, 3833: 2, 3859: 2, 3885: 2, 3887: 2, 3905: 2, 3909: 2, 3918: 2, 3925: 2, 3930: 2, 3940: 2, 3947: 2, 3948: 2, 3972: 2, 3976: 2, 3977: 2, 3983: 2, 4006: 2, 4007: 2, 4024: 2, 4025: 2, 4035: 2, 4041: 2, 4047: 2, 4068: 2, 4078: 2, 4088: 2, 4135: 2, 4140: 2, 4158: 2, 4165: 2, 4166: 2, 4167: 2, 4179: 2, 4183: 2, 4203: 2, 4232: 2, 4280: 2, 4297: 2, 4328: 2, 4336: 2, 4342: 2, 4346: 2, 4356: 2, 4373: 2, 0: 1, 1: 1, 2: 1, 3: 1, 4: 1, 5: 1, 6: 1, 7: 1, 9: 1, 10: 1, 11: 1, 12: 1, 13: 1, 14: 1, 15: 1, 16: 1, 17: 1, 18: 1, 19: 1, 20: 1, 21: 1, 23: 1, 24: 1, 25: 1, 26: 1, 27: 1, 28: 1, 29: 1, 30: 1, 32: 1, 33: 1, 34: 1, 35: 1, 36: 1, 37: 1, 38: 1, 39: 1, 40: 1, 42: 1, 43: 1, 44: 1, 45: 1, 46: 1, 47: 1, 49: 1, 50: 1, 52: 1, 53: 1, 54: 1, 55: 1, 56: 1, 57: 1, 58: 1, 59: 1, 60: 1, 62: 1, 63: 1, 64: 1, 65: 1, 66: 1, 67: 1, 68: 1, 69: 1, 70: 1, 71: 1, 72: 1, 73: 1, 74: 1, 75: 1, 76: 1, 78: 1, 79: 1, 80: 1, 81: 1, 82: 1, 83: 1, 84: 1, 85: 1, 86: 1, 87: 1, 88: 1, 90: 1, 91: 1, 92: 1, 93: 1, 94: 1, 97: 1, 98: 1, 99: 1, 100: 1, 101: 1, 102: 1, 103: 1, 104: 1, 107: 1, 108: 1, 109: 1, 110: 1, 111: 1, 112: 1, 113: 1, 114: 1, 115: 1, 116: 1, 117: 1, 118: 1, 119: 1, 120: 1, 121: 1, 123: 1, 125: 1, 126: 1, 127: 1, 128: 1, 129: 1, 130: 1, 131: 1, 132: 1, 133: 1, 134: 1, 135: 1, 136: 1, 138: 1, 139: 1, 140: 1, 141: 1, 142: 1, 143: 1, 144: 1, 145: 1, 146: 1, 147: 1, 148: 1, 149: 1, 150: 1, 151: 1, 153: 1, 154: 1, 155: 1, 156: 1, 157: 1, 158: 1, 159: 1, 160: 1, 161: 1, 162: 1, 163: 1, 164: 1, 165: 1, 166: 1, 167: 1, 168: 1, 169: 1, 170: 1, 171: 1, 173: 1, 175: 1, 176: 1, 177: 1, 178: 1, 179: 1, 180: 1, 181: 1, 182: 1, 183: 1, 184: 1, 185: 1, 186: 1, 187: 1, 188: 1, 189: 1, 190: 1, 191: 1, 192: 1, 193: 1, 194: 1, 195: 1, 196: 1, 197: 1, 198: 1, 199: 1, 200: 1, 201: 1, 202: 1, 203: 1, 204: 1, 205: 1, 206: 1, 207: 1, 208: 1, 209: 1, 211: 1, 212: 1, 213: 1, 214: 1, 215: 1, 216: 1, 217: 1, 218: 1, 219: 1, 220: 1, 221: 1, 222: 1, 223: 1, 224: 1, 225: 1, 226: 1, 227: 1, 228: 1, 229: 1, 230: 1, 231: 1, 232: 1, 233: 1, 234: 1, 235: 1, 236: 1, 237: 1, 238: 1, 239: 1, 240: 1, 241: 1, 242: 1, 243: 1, 244: 1, 245: 1, 246: 1, 247: 1, 248: 1, 249: 1, 250: 1, 251: 1, 252: 1, 253: 1, 254: 1, 255: 1, 256: 1, 257: 1, 258: 1, 259: 1, 260: 1, 261: 1, 262: 1, 263: 1, 264: 1, 265: 1, 266: 1, 267: 1, 269: 1, 270: 1, 271: 1, 272: 1, 273: 1, 274: 1, 275: 1, 276: 1, 277: 1, 278: 1, 279: 1, 280: 1, 281: 1, 282: 1, 283: 1, 284: 1, 285: 1, 286: 1, 287: 1, 288: 1, 290: 1, 291: 1, 292: 1, 293: 1, 294: 1, 295: 1, 296: 1, 297: 1, 298: 1, 299: 1, 300: 1, 301: 1, 302: 1, 303: 1, 304: 1, 305: 1, 306: 1, 307: 1, 308: 1, 309: 1, 310: 1, 312: 1, 313: 1, 314: 1, 315: 1, 316: 1, 317: 1, 318: 1, 319: 1, 320: 1, 321: 1, 322: 1, 323: 1, 324: 1, 325: 1, 327: 1, 328: 1, 330: 1, 331: 1, 332: 1, 333: 1, 334: 1, 335: 1, 336: 1, 337: 1, 338: 1, 339: 1, 341: 1, 342: 1, 343: 1, 344: 1, 345: 1, 346: 1, 347: 1, 349: 1, 350: 1, 351: 1, 352: 1, 353: 1, 355: 1, 356: 1, 357: 1, 359: 1, 360: 1, 361: 1, 362: 1, 363: 1, 364: 1, 365: 1, 366: 1, 367: 1, 368: 1, 369: 1, 370: 1, 371: 1, 372: 1, 373: 1, 375: 1, 376: 1, 377: 1, 378: 1, 379: 1, 380: 1, 381: 1, 382: 1, 383: 1, 384: 1, 385: 1, 386: 1, 387: 1, 388: 1, 389: 1, 390: 1, 391: 1, 393: 1, 394: 1, 395: 1, 397: 1, 398: 1, 400: 1, 401: 1, 402: 1, 403: 1, 404: 1, 406: 1, 407: 1, 408: 1, 409: 1, 410: 1, 411: 1, 412: 1, 413: 1, 414: 1, 415: 1, 417: 1, 418: 1, 419: 1, 420: 1, 421: 1, 422: 1, 424: 1, 425: 1, 426: 1, 428: 1, 429: 1, 430: 1, 431: 1, 432: 1, 433: 1, 435: 1, 438: 1, 439: 1, 440: 1, 443: 1, 444: 1, 445: 1, 446: 1, 448: 1, 449: 1, 450: 1, 451: 1, 452: 1, 453: 1, 455: 1, 456: 1, 457: 1, 458: 1, 459: 1, 460: 1, 461: 1, 462: 1, 463: 1, 465: 1, 466: 1, 467: 1, 468: 1, 469: 1, 470: 1, 472: 1, 473: 1, 474: 1, 475: 1, 477: 1, 479: 1, 480: 1, 483: 1, 484: 1, 485: 1, 486: 1, 487: 1, 488: 1, 489: 1, 490: 1, 491: 1, 492: 1, 493: 1, 494: 1, 496: 1, 497: 1, 498: 1, 499: 1, 501: 1, 502: 1, 503: 1, 505: 1, 506: 1, 507: 1, 509: 1, 510: 1, 511: 1, 513: 1, 514: 1, 515: 1, 516: 1, 517: 1, 518: 1, 519: 1, 520: 1, 521: 1, 522: 1, 523: 1, 524: 1, 525: 1, 526: 1, 527: 1, 528: 1, 529: 1, 530: 1, 531: 1, 532: 1, 533: 1, 534: 1, 535: 1, 536: 1, 537: 1, 538: 1, 539: 1, 540: 1, 541: 1, 542: 1, 543: 1, 544: 1, 545: 1, 546: 1, 547: 1, 549: 1, 550: 1, 551: 1, 552: 1, 553: 1, 554: 1, 555: 1, 557: 1, 558: 1, 559: 1, 560: 1, 561: 1, 563: 1, 564: 1, 565: 1, 566: 1, 567: 1, 568: 1, 569: 1, 570: 1, 571: 1, 572: 1, 573: 1, 574: 1, 575: 1, 577: 1, 578: 1, 579: 1, 581: 1, 582: 1, 583: 1, 584: 1, 585: 1, 586: 1, 587: 1, 588: 1, 589: 1, 590: 1, 591: 1, 592: 1, 593: 1, 594: 1, 595: 1, 596: 1, 597: 1, 598: 1, 599: 1, 600: 1, 601: 1, 602: 1, 603: 1, 604: 1, 606: 1, 607: 1, 609: 1, 610: 1, 611: 1, 612: 1, 613: 1, 614: 1, 615: 1, 616: 1, 617: 1, 619: 1, 620: 1, 622: 1, 623: 1, 624: 1, 625: 1, 626: 1, 627: 1, 628: 1, 630: 1, 632: 1, 633: 1, 634: 1, 635: 1, 637: 1, 638: 1, 639: 1, 641: 1, 642: 1, 643: 1, 645: 1, 646: 1, 647: 1, 648: 1, 649: 1, 650: 1, 651: 1, 652: 1, 653: 1, 654: 1, 655: 1, 656: 1, 657: 1, 658: 1, 660: 1, 661: 1, 662: 1, 663: 1, 664: 1, 665: 1, 666: 1, 667: 1, 668: 1, 669: 1, 671: 1, 672: 1, 673: 1, 674: 1, 675: 1, 676: 1, 677: 1, 678: 1, 681: 1, 682: 1, 683: 1, 684: 1, 685: 1, 686: 1, 688: 1, 689: 1, 690: 1, 691: 1, 692: 1, 693: 1, 694: 1, 695: 1, 696: 1, 697: 1, 699: 1, 701: 1, 702: 1, 703: 1, 704: 1, 705: 1, 707: 1, 708: 1, 709: 1, 710: 1, 711: 1, 712: 1, 713: 1, 714: 1, 715: 1, 716: 1, 717: 1, 718: 1, 719: 1, 720: 1, 721: 1, 723: 1, 724: 1, 725: 1, 726: 1, 727: 1, 728: 1, 729: 1, 730: 1, 731: 1, 732: 1, 734: 1, 735: 1, 736: 1, 737: 1, 738: 1, 739: 1, 740: 1, 741: 1, 742: 1, 743: 1, 744: 1, 745: 1, 746: 1, 747: 1, 748: 1, 749: 1, 751: 1, 752: 1, 753: 1, 754: 1, 755: 1, 757: 1, 758: 1, 759: 1, 760: 1, 761: 1, 762: 1, 763: 1, 764: 1, 765: 1, 766: 1, 767: 1, 769: 1, 770: 1, 772: 1, 773: 1, 774: 1, 775: 1, 776: 1, 779: 1, 780: 1, 782: 1, 783: 1, 784: 1, 785: 1, 786: 1, 787: 1, 790: 1, 791: 1, 792: 1, 793: 1, 794: 1, 795: 1, 796: 1, 797: 1, 798: 1, 799: 1, 800: 1, 801: 1, 802: 1, 803: 1, 805: 1, 806: 1, 807: 1, 808: 1, 809: 1, 810: 1, 812: 1, 813: 1, 814: 1, 815: 1, 816: 1, 817: 1, 818: 1, 819: 1, 820: 1, 821: 1, 822: 1, 823: 1, 824: 1, 825: 1, 826: 1, 827: 1, 828: 1, 829: 1, 831: 1, 832: 1, 833: 1, 835: 1, 836: 1, 837: 1, 839: 1, 841: 1, 842: 1, 843: 1, 844: 1, 846: 1, 847: 1, 849: 1, 850: 1, 851: 1, 852: 1, 853: 1, 854: 1, 855: 1, 856: 1, 857: 1, 858: 1, 859: 1, 860: 1, 861: 1, 862: 1, 863: 1, 864: 1, 867: 1, 868: 1, 869: 1, 870: 1, 871: 1, 872: 1, 873: 1, 874: 1, 875: 1, 876: 1, 877: 1, 878: 1, 879: 1, 880: 1, 881: 1, 882: 1, 883: 1, 884: 1, 885: 1, 886: 1, 887: 1, 888: 1, 889: 1, 890: 1, 891: 1, 892: 1, 893: 1, 894: 1, 895: 1, 896: 1, 897: 1, 898: 1, 899: 1, 901: 1, 902: 1, 903: 1, 904: 1, 905: 1, 906: 1, 907: 1, 909: 1, 911: 1, 912: 1, 913: 1, 915: 1, 916: 1, 917: 1, 918: 1, 919: 1, 920: 1, 921: 1, 922: 1, 923: 1, 924: 1, 925: 1, 926: 1, 928: 1, 929: 1, 930: 1, 931: 1, 934: 1, 935: 1, 937: 1, 938: 1, 940: 1, 941: 1, 942: 1, 944: 1, 946: 1, 947: 1, 948: 1, 950: 1, 951: 1, 952: 1, 953: 1, 954: 1, 955: 1, 956: 1, 957: 1, 959: 1, 961: 1, 962: 1, 963: 1, 964: 1, 965: 1, 966: 1, 967: 1, 968: 1, 969: 1, 970: 1, 971: 1, 972: 1, 973: 1, 975: 1, 976: 1, 979: 1, 980: 1, 981: 1, 982: 1, 983: 1, 984: 1, 985: 1, 986: 1, 987: 1, 988: 1, 989: 1, 990: 1, 991: 1, 992: 1, 993: 1, 995: 1, 996: 1, 997: 1, 998: 1, 999: 1, 1000: 1, 1001: 1, 1002: 1, 1004: 1, 1005: 1, 1006: 1, 1007: 1, 1008: 1, 1009: 1, 1011: 1, 1012: 1, 1013: 1, 1014: 1, 1015: 1, 1016: 1, 1017: 1, 1018: 1, 1019: 1, 1020: 1, 1021: 1, 1022: 1, 1023: 1, 1024: 1, 1025: 1, 1027: 1, 1028: 1, 1029: 1, 1030: 1, 1031: 1, 1032: 1, 1033: 1, 1034: 1, 1035: 1, 1037: 1, 1038: 1, 1040: 1, 1041: 1, 1042: 1, 1043: 1, 1044: 1, 1046: 1, 1047: 1, 1048: 1, 1049: 1, 1050: 1, 1051: 1, 1052: 1, 1053: 1, 1054: 1, 1055: 1, 1057: 1, 1058: 1, 1059: 1, 1060: 1, 1061: 1, 1062: 1, 1063: 1, 1064: 1, 1065: 1, 1066: 1, 1067: 1, 1068: 1, 1069: 1, 1070: 1, 1071: 1, 1072: 1, 1073: 1, 1074: 1, 1075: 1, 1076: 1, 1077: 1, 1078: 1, 1079: 1, 1081: 1, 1082: 1, 1083: 1, 1084: 1, 1085: 1, 1086: 1, 1087: 1, 1088: 1, 1089: 1, 1090: 1, 1091: 1, 1092: 1, 1093: 1, 1094: 1, 1095: 1, 1096: 1, 1098: 1, 1099: 1, 1100: 1, 1101: 1, 1102: 1, 1103: 1, 1104: 1, 1105: 1, 1107: 1, 1108: 1, 1109: 1, 1110: 1, 1111: 1, 1112: 1, 1113: 1, 1114: 1, 1115: 1, 1116: 1, 1117: 1, 1118: 1, 1119: 1, 1120: 1, 1122: 1, 1123: 1, 1124: 1, 1125: 1, 1126: 1, 1127: 1, 1128: 1, 1129: 1, 1130: 1, 1132: 1, 1133: 1, 1134: 1, 1135: 1, 1136: 1, 1137: 1, 1138: 1, 1139: 1, 1140: 1, 1141: 1, 1143: 1, 1145: 1, 1146: 1, 1148: 1, 1149: 1, 1150: 1, 1151: 1, 1152: 1, 1153: 1, 1154: 1, 1155: 1, 1156: 1, 1157: 1, 1158: 1, 1159: 1, 1160: 1, 1161: 1, 1162: 1, 1163: 1, 1164: 1, 1165: 1, 1166: 1, 1168: 1, 1169: 1, 1170: 1, 1171: 1, 1172: 1, 1174: 1, 1176: 1, 1177: 1, 1179: 1, 1180: 1, 1181: 1, 1182: 1, 1183: 1, 1184: 1, 1185: 1, 1186: 1, 1187: 1, 1188: 1, 1189: 1, 1190: 1, 1191: 1, 1193: 1, 1194: 1, 1195: 1, 1196: 1, 1197: 1, 1199: 1, 1200: 1, 1201: 1, 1202: 1, 1203: 1, 1204: 1, 1205: 1, 1206: 1, 1208: 1, 1209: 1, 1210: 1, 1211: 1, 1212: 1, 1213: 1, 1214: 1, 1215: 1, 1216: 1, 1217: 1, 1218: 1, 1220: 1, 1221: 1, 1222: 1, 1223: 1, 1225: 1, 1226: 1, 1227: 1, 1228: 1, 1229: 1, 1230: 1, 1231: 1, 1233: 1, 1234: 1, 1235: 1, 1236: 1, 1237: 1, 1238: 1, 1239: 1, 1240: 1, 1241: 1, 1242: 1, 1243: 1, 1244: 1, 1245: 1, 1246: 1, 1247: 1, 1248: 1, 1249: 1, 1250: 1, 1251: 1, 1252: 1, 1253: 1, 1254: 1, 1255: 1, 1256: 1, 1257: 1, 1258: 1, 1259: 1, 1260: 1, 1261: 1, 1262: 1, 1264: 1, 1265: 1, 1267: 1, 1268: 1, 1269: 1, 1270: 1, 1271: 1, 1272: 1, 1273: 1, 1274: 1, 1275: 1, 1276: 1, 1278: 1, 1279: 1, 1280: 1, 1281: 1, 1282: 1, 1284: 1, 1285: 1, 1286: 1, 1287: 1, 1288: 1, 1289: 1, 1290: 1, 1292: 1, 1293: 1, 1294: 1, 1295: 1, 1296: 1, 1297: 1, 1298: 1, 1299: 1, 1300: 1, 1301: 1, 1302: 1, 1303: 1, 1304: 1, 1305: 1, 1306: 1, 1307: 1, 1308: 1, 1309: 1, 1310: 1, 1311: 1, 1313: 1, 1315: 1, 1316: 1, 1317: 1, 1318: 1, 1319: 1, 1320: 1, 1321: 1, 1323: 1, 1324: 1, 1325: 1, 1326: 1, 1327: 1, 1329: 1, 1330: 1, 1331: 1, 1333: 1, 1335: 1, 1336: 1, 1337: 1, 1338: 1, 1339: 1, 1340: 1, 1341: 1, 1342: 1, 1343: 1, 1344: 1, 1345: 1, 1346: 1, 1347: 1, 1349: 1, 1350: 1, 1351: 1, 1353: 1, 1354: 1, 1355: 1, 1357: 1, 1359: 1, 1360: 1, 1361: 1, 1363: 1, 1365: 1, 1366: 1, 1367: 1, 1368: 1, 1369: 1, 1370: 1, 1371: 1, 1372: 1, 1373: 1, 1374: 1, 1375: 1, 1376: 1, 1377: 1, 1378: 1, 1379: 1, 1380: 1, 1381: 1, 1382: 1, 1383: 1, 1385: 1, 1386: 1, 1387: 1, 1388: 1, 1389: 1, 1390: 1, 1391: 1, 1392: 1, 1393: 1, 1395: 1, 1396: 1, 1397: 1, 1398: 1, 1399: 1, 1400: 1, 1402: 1, 1403: 1, 1405: 1, 1406: 1, 1407: 1, 1408: 1, 1409: 1, 1410: 1, 1411: 1, 1412: 1, 1413: 1, 1414: 1, 1415: 1, 1416: 1, 1418: 1, 1419: 1, 1420: 1, 1421: 1, 1422: 1, 1423: 1, 1424: 1, 1426: 1, 1428: 1, 1429: 1, 1430: 1, 1432: 1, 1433: 1, 1434: 1, 1435: 1, 1436: 1, 1437: 1, 1438: 1, 1439: 1, 1440: 1, 1442: 1, 1443: 1, 1444: 1, 1445: 1, 1446: 1, 1448: 1, 1449: 1, 1450: 1, 1451: 1, 1452: 1, 1453: 1, 1454: 1, 1455: 1, 1456: 1, 1457: 1, 1458: 1, 1459: 1, 1461: 1, 1462: 1, 1463: 1, 1464: 1, 1465: 1, 1466: 1, 1467: 1, 1468: 1, 1469: 1, 1470: 1, 1471: 1, 1472: 1, 1473: 1, 1474: 1, 1476: 1, 1477: 1, 1478: 1, 1479: 1, 1480: 1, 1481: 1, 1482: 1, 1483: 1, 1484: 1, 1485: 1, 1486: 1, 1487: 1, 1488: 1, 1490: 1, 1491: 1, 1492: 1, 1493: 1, 1494: 1, 1495: 1, 1496: 1, 1497: 1, 1498: 1, 1499: 1, 1500: 1, 1501: 1, 1502: 1, 1503: 1, 1504: 1, 1505: 1, 1506: 1, 1507: 1, 1508: 1, 1509: 1, 1510: 1, 1511: 1, 1512: 1, 1513: 1, 1514: 1, 1515: 1, 1516: 1, 1517: 1, 1518: 1, 1519: 1, 1520: 1, 1521: 1, 1522: 1, 1523: 1, 1525: 1, 1526: 1, 1527: 1, 1528: 1, 1529: 1, 1530: 1, 1532: 1, 1533: 1, 1534: 1, 1536: 1, 1537: 1, 1538: 1, 1539: 1, 1540: 1, 1541: 1, 1542: 1, 1544: 1, 1545: 1, 1546: 1, 1547: 1, 1548: 1, 1549: 1, 1550: 1, 1551: 1, 1552: 1, 1553: 1, 1554: 1, 1555: 1, 1556: 1, 1557: 1, 1558: 1, 1560: 1, 1561: 1, 1562: 1, 1563: 1, 1564: 1, 1565: 1, 1566: 1, 1567: 1, 1568: 1, 1570: 1, 1572: 1, 1573: 1, 1575: 1, 1576: 1, 1578: 1, 1580: 1, 1581: 1, 1583: 1, 1584: 1, 1585: 1, 1586: 1, 1587: 1, 1589: 1, 1590: 1, 1591: 1, 1592: 1, 1593: 1, 1596: 1, 1597: 1, 1598: 1, 1599: 1, 1600: 1, 1601: 1, 1602: 1, 1603: 1, 1604: 1, 1605: 1, 1606: 1, 1607: 1, 1608: 1, 1609: 1, 1610: 1, 1611: 1, 1612: 1, 1613: 1, 1614: 1, 1615: 1, 1616: 1, 1618: 1, 1619: 1, 1620: 1, 1621: 1, 1622: 1, 1623: 1, 1624: 1, 1625: 1, 1626: 1, 1627: 1, 1628: 1, 1629: 1, 1631: 1, 1632: 1, 1633: 1, 1634: 1, 1636: 1, 1638: 1, 1641: 1, 1642: 1, 1643: 1, 1644: 1, 1646: 1, 1648: 1, 1649: 1, 1650: 1, 1651: 1, 1652: 1, 1653: 1, 1654: 1, 1655: 1, 1656: 1, 1657: 1, 1658: 1, 1659: 1, 1661: 1, 1662: 1, 1663: 1, 1664: 1, 1665: 1, 1666: 1, 1667: 1, 1668: 1, 1669: 1, 1670: 1, 1671: 1, 1672: 1, 1673: 1, 1674: 1, 1675: 1, 1676: 1, 1677: 1, 1678: 1, 1679: 1, 1681: 1, 1682: 1, 1683: 1, 1685: 1, 1686: 1, 1687: 1, 1688: 1, 1689: 1, 1690: 1, 1691: 1, 1692: 1, 1693: 1, 1695: 1, 1696: 1, 1697: 1, 1698: 1, 1699: 1, 1700: 1, 1701: 1, 1702: 1, 1704: 1, 1705: 1, 1706: 1, 1707: 1, 1708: 1, 1709: 1, 1710: 1, 1711: 1, 1712: 1, 1713: 1, 1714: 1, 1715: 1, 1716: 1, 1717: 1, 1719: 1, 1720: 1, 1721: 1, 1722: 1, 1723: 1, 1724: 1, 1725: 1, 1726: 1, 1727: 1, 1728: 1, 1730: 1, 1731: 1, 1732: 1, 1733: 1, 1734: 1, 1735: 1, 1736: 1, 1737: 1, 1738: 1, 1739: 1, 1741: 1, 1742: 1, 1743: 1, 1744: 1, 1745: 1, 1747: 1, 1748: 1, 1749: 1, 1750: 1, 1751: 1, 1752: 1, 1753: 1, 1754: 1, 1755: 1, 1756: 1, 1757: 1, 1758: 1, 1760: 1, 1762: 1, 1763: 1, 1765: 1, 1766: 1, 1767: 1, 1768: 1, 1769: 1, 1770: 1, 1771: 1, 1772: 1, 1773: 1, 1775: 1, 1776: 1, 1777: 1, 1778: 1, 1779: 1, 1780: 1, 1781: 1, 1782: 1, 1783: 1, 1784: 1, 1785: 1, 1786: 1, 1787: 1, 1788: 1, 1789: 1, 1790: 1, 1791: 1, 1792: 1, 1793: 1, 1795: 1, 1796: 1, 1797: 1, 1798: 1, 1799: 1, 1801: 1, 1802: 1, 1803: 1, 1804: 1, 1805: 1, 1806: 1, 1807: 1, 1808: 1, 1809: 1, 1810: 1, 1811: 1, 1812: 1, 1813: 1, 1814: 1, 1816: 1, 1817: 1, 1818: 1, 1819: 1, 1820: 1, 1821: 1, 1822: 1, 1823: 1, 1824: 1, 1825: 1, 1826: 1, 1827: 1, 1828: 1, 1829: 1, 1830: 1, 1831: 1, 1832: 1, 1833: 1, 1835: 1, 1836: 1, 1837: 1, 1838: 1, 1839: 1, 1841: 1, 1842: 1, 1843: 1, 1844: 1, 1845: 1, 1846: 1, 1847: 1, 1848: 1, 1849: 1, 1850: 1, 1852: 1, 1855: 1, 1856: 1, 1857: 1, 1858: 1, 1859: 1, 1860: 1, 1861: 1, 1862: 1, 1863: 1, 1864: 1, 1865: 1, 1867: 1, 1868: 1, 1869: 1, 1870: 1, 1871: 1, 1872: 1, 1873: 1, 1874: 1, 1875: 1, 1876: 1, 1877: 1, 1878: 1, 1879: 1, 1880: 1, 1882: 1, 1884: 1, 1885: 1, 1886: 1, 1887: 1, 1888: 1, 1889: 1, 1890: 1, 1891: 1, 1892: 1, 1893: 1, 1894: 1, 1897: 1, 1898: 1, 1899: 1, 1901: 1, 1902: 1, 1903: 1, 1904: 1, 1905: 1, 1906: 1, 1907: 1, 1910: 1, 1911: 1, 1912: 1, 1913: 1, 1914: 1, 1916: 1, 1917: 1, 1918: 1, 1919: 1, 1922: 1, 1923: 1, 1924: 1, 1926: 1, 1927: 1, 1930: 1, 1931: 1, 1932: 1, 1933: 1, 1934: 1, 1936: 1, 1937: 1, 1938: 1, 1939: 1, 1940: 1, 1941: 1, 1943: 1, 1944: 1, 1945: 1, 1946: 1, 1947: 1, 1948: 1, 1949: 1, 1950: 1, 1952: 1, 1954: 1, 1956: 1, 1957: 1, 1958: 1, 1959: 1, 1960: 1, 1961: 1, 1962: 1, 1963: 1, 1964: 1, 1965: 1, 1966: 1, 1967: 1, 1968: 1, 1969: 1, 1970: 1, 1971: 1, 1972: 1, 1973: 1, 1974: 1, 1975: 1, 1976: 1, 1978: 1, 1980: 1, 1981: 1, 1982: 1, 1983: 1, 1984: 1, 1985: 1, 1986: 1, 1987: 1, 1988: 1, 1989: 1, 1990: 1, 1991: 1, 1992: 1, 1993: 1, 1994: 1, 1995: 1, 1997: 1, 1998: 1, 1999: 1, 2000: 1, 2001: 1, 2002: 1, 2003: 1, 2004: 1, 2005: 1, 2006: 1, 2007: 1, 2008: 1, 2009: 1, 2010: 1, 2011: 1, 2012: 1, 2013: 1, 2014: 1, 2015: 1, 2016: 1, 2017: 1, 2018: 1, 2019: 1, 2020: 1, 2021: 1, 2022: 1, 2023: 1, 2024: 1, 2025: 1, 2026: 1, 2027: 1, 2028: 1, 2029: 1, 2031: 1, 2032: 1, 2033: 1, 2034: 1, 2035: 1, 2036: 1, 2038: 1, 2039: 1, 2040: 1, 2041: 1, 2042: 1, 2043: 1, 2044: 1, 2045: 1, 2046: 1, 2047: 1, 2048: 1, 2049: 1, 2050: 1, 2051: 1, 2052: 1, 2053: 1, 2054: 1, 2056: 1, 2057: 1, 2058: 1, 2059: 1, 2060: 1, 2061: 1, 2062: 1, 2063: 1, 2064: 1, 2065: 1, 2066: 1, 2067: 1, 2068: 1, 2069: 1, 2070: 1, 2071: 1, 2072: 1, 2073: 1, 2074: 1, 2076: 1, 2077: 1, 2078: 1, 2079: 1, 2080: 1, 2081: 1, 2082: 1, 2083: 1, 2084: 1, 2085: 1, 2088: 1, 2090: 1, 2092: 1, 2093: 1, 2095: 1, 2096: 1, 2097: 1, 2099: 1, 2100: 1, 2102: 1, 2103: 1, 2104: 1, 2105: 1, 2106: 1, 2107: 1, 2109: 1, 2110: 1, 2111: 1, 2112: 1, 2113: 1, 2114: 1, 2115: 1, 2116: 1, 2117: 1, 2118: 1, 2120: 1, 2124: 1, 2125: 1, 2126: 1, 2131: 1, 2132: 1, 2133: 1, 2134: 1, 2135: 1, 2136: 1, 2137: 1, 2138: 1, 2139: 1, 2140: 1, 2141: 1, 2143: 1, 2144: 1, 2145: 1, 2146: 1, 2147: 1, 2148: 1, 2149: 1, 2150: 1, 2152: 1, 2153: 1, 2154: 1, 2155: 1, 2157: 1, 2158: 1, 2159: 1, 2160: 1, 2161: 1, 2162: 1, 2163: 1, 2165: 1, 2166: 1, 2167: 1, 2168: 1, 2169: 1, 2170: 1, 2171: 1, 2172: 1, 2174: 1, 2175: 1, 2176: 1, 2177: 1, 2178: 1, 2179: 1, 2180: 1, 2181: 1, 2182: 1, 2183: 1, 2184: 1, 2185: 1, 2186: 1, 2187: 1, 2188: 1, 2189: 1, 2191: 1, 2192: 1, 2193: 1, 2194: 1, 2195: 1, 2196: 1, 2197: 1, 2199: 1, 2200: 1, 2201: 1, 2203: 1, 2205: 1, 2206: 1, 2207: 1, 2208: 1, 2209: 1, 2210: 1, 2211: 1, 2212: 1, 2213: 1, 2214: 1, 2215: 1, 2216: 1, 2217: 1, 2218: 1, 2219: 1, 2220: 1, 2221: 1, 2222: 1, 2223: 1, 2224: 1, 2225: 1, 2226: 1, 2227: 1, 2228: 1, 2229: 1, 2230: 1, 2232: 1, 2233: 1, 2234: 1, 2235: 1, 2236: 1, 2237: 1, 2238: 1, 2239: 1, 2240: 1, 2241: 1, 2242: 1, 2244: 1, 2245: 1, 2246: 1, 2247: 1, 2248: 1, 2249: 1, 2250: 1, 2251: 1, 2252: 1, 2253: 1, 2254: 1, 2255: 1, 2256: 1, 2257: 1, 2258: 1, 2259: 1, 2260: 1, 2261: 1, 2262: 1, 2263: 1, 2264: 1, 2265: 1, 2266: 1, 2268: 1, 2269: 1, 2270: 1, 2271: 1, 2272: 1, 2273: 1, 2274: 1, 2275: 1, 2276: 1, 2277: 1, 2279: 1, 2280: 1, 2281: 1, 2282: 1, 2283: 1, 2284: 1, 2285: 1, 2286: 1, 2287: 1, 2288: 1, 2289: 1, 2290: 1, 2291: 1, 2292: 1, 2293: 1, 2294: 1, 2295: 1, 2297: 1, 2298: 1, 2300: 1, 2301: 1, 2302: 1, 2303: 1, 2304: 1, 2305: 1, 2306: 1, 2307: 1, 2308: 1, 2309: 1, 2310: 1, 2312: 1, 2313: 1, 2314: 1, 2315: 1, 2316: 1, 2317: 1, 2318: 1, 2319: 1, 2320: 1, 2321: 1, 2322: 1, 2323: 1, 2324: 1, 2325: 1, 2327: 1, 2328: 1, 2329: 1, 2330: 1, 2331: 1, 2332: 1, 2333: 1, 2334: 1, 2335: 1, 2336: 1, 2337: 1, 2338: 1, 2339: 1, 2340: 1, 2341: 1, 2342: 1, 2343: 1, 2345: 1, 2346: 1, 2347: 1, 2348: 1, 2349: 1, 2350: 1, 2351: 1, 2352: 1, 2353: 1, 2354: 1, 2355: 1, 2356: 1, 2357: 1, 2358: 1, 2359: 1, 2360: 1, 2361: 1, 2362: 1, 2363: 1, 2364: 1, 2365: 1, 2367: 1, 2369: 1, 2370: 1, 2372: 1, 2373: 1, 2374: 1, 2375: 1, 2376: 1, 2377: 1, 2378: 1, 2379: 1, 2380: 1, 2382: 1, 2383: 1, 2384: 1, 2385: 1, 2386: 1, 2387: 1, 2388: 1, 2389: 1, 2390: 1, 2391: 1, 2392: 1, 2393: 1, 2394: 1, 2396: 1, 2398: 1, 2399: 1, 2400: 1, 2401: 1, 2402: 1, 2403: 1, 2404: 1, 2405: 1, 2407: 1, 2408: 1, 2409: 1, 2410: 1, 2411: 1, 2413: 1, 2414: 1, 2415: 1, 2416: 1, 2417: 1, 2418: 1, 2419: 1, 2420: 1, 2421: 1, 2422: 1, 2423: 1, 2424: 1, 2425: 1, 2426: 1, 2427: 1, 2428: 1, 2430: 1, 2431: 1, 2432: 1, 2433: 1, 2434: 1, 2435: 1, 2436: 1, 2437: 1, 2438: 1, 2440: 1, 2441: 1, 2442: 1, 2443: 1, 2444: 1, 2445: 1, 2446: 1, 2447: 1, 2448: 1, 2449: 1, 2450: 1, 2451: 1, 2453: 1, 2454: 1, 2455: 1, 2456: 1, 2457: 1, 2458: 1, 2459: 1, 2460: 1, 2461: 1, 2462: 1, 2463: 1, 2465: 1, 2466: 1, 2467: 1, 2468: 1, 2469: 1, 2470: 1, 2471: 1, 2472: 1, 2473: 1, 2474: 1, 2475: 1, 2476: 1, 2477: 1, 2478: 1, 2479: 1, 2480: 1, 2481: 1, 2483: 1, 2484: 1, 2485: 1, 2486: 1, 2487: 1, 2489: 1, 2490: 1, 2492: 1, 2493: 1, 2494: 1, 2495: 1, 2496: 1, 2497: 1, 2498: 1, 2499: 1, 2500: 1, 2501: 1, 2502: 1, 2503: 1, 2504: 1, 2505: 1, 2506: 1, 2507: 1, 2508: 1, 2509: 1, 2510: 1, 2511: 1, 2512: 1, 2513: 1, 2514: 1, 2515: 1, 2517: 1, 2518: 1, 2519: 1, 2520: 1, 2521: 1, 2522: 1, 2523: 1, 2524: 1, 2525: 1, 2526: 1, 2527: 1, 2528: 1, 2529: 1, 2530: 1, 2531: 1, 2532: 1, 2533: 1, 2534: 1, 2535: 1, 2536: 1, 2537: 1, 2538: 1, 2539: 1, 2540: 1, 2541: 1, 2542: 1, 2544: 1, 2545: 1, 2546: 1, 2547: 1, 2548: 1, 2549: 1, 2550: 1, 2551: 1, 2552: 1, 2553: 1, 2554: 1, 2555: 1, 2556: 1, 2559: 1, 2560: 1, 2561: 1, 2562: 1, 2563: 1, 2565: 1, 2566: 1, 2567: 1, 2568: 1, 2569: 1, 2570: 1, 2571: 1, 2572: 1, 2573: 1, 2574: 1, 2575: 1, 2576: 1, 2577: 1, 2578: 1, 2579: 1, 2580: 1, 2581: 1, 2583: 1, 2584: 1, 2585: 1, 2586: 1, 2588: 1, 2589: 1, 2590: 1, 2591: 1, 2592: 1, 2593: 1, 2594: 1, 2595: 1, 2596: 1, 2597: 1, 2598: 1, 2599: 1, 2600: 1, 2601: 1, 2602: 1, 2603: 1, 2605: 1, 2606: 1, 2607: 1, 2608: 1, 2609: 1, 2610: 1, 2612: 1, 2614: 1, 2615: 1, 2616: 1, 2617: 1, 2618: 1, 2619: 1, 2620: 1, 2621: 1, 2622: 1, 2623: 1, 2624: 1, 2625: 1, 2626: 1, 2627: 1, 2628: 1, 2629: 1, 2630: 1, 2631: 1, 2632: 1, 2633: 1, 2634: 1, 2635: 1, 2636: 1, 2637: 1, 2638: 1, 2639: 1, 2640: 1, 2641: 1, 2642: 1, 2643: 1, 2644: 1, 2645: 1, 2646: 1, 2647: 1, 2648: 1, 2649: 1, 2650: 1, 2651: 1, 2653: 1, 2654: 1, 2655: 1, 2657: 1, 2658: 1, 2659: 1, 2660: 1, 2661: 1, 2662: 1, 2663: 1, 2664: 1, 2665: 1, 2666: 1, 2667: 1, 2668: 1, 2669: 1, 2670: 1, 2671: 1, 2672: 1, 2673: 1, 2674: 1, 2676: 1, 2678: 1, 2679: 1, 2680: 1, 2681: 1, 2682: 1, 2683: 1, 2684: 1, 2685: 1, 2686: 1, 2687: 1, 2688: 1, 2690: 1, 2691: 1, 2692: 1, 2694: 1, 2695: 1, 2697: 1, 2698: 1, 2699: 1, 2700: 1, 2702: 1, 2703: 1, 2704: 1, 2705: 1, 2706: 1, 2707: 1, 2708: 1, 2709: 1, 2710: 1, 2711: 1, 2712: 1, 2713: 1, 2714: 1, 2715: 1, 2718: 1, 2719: 1, 2720: 1, 2721: 1, 2722: 1, 2723: 1, 2724: 1, 2725: 1, 2726: 1, 2727: 1, 2728: 1, 2729: 1, 2730: 1, 2733: 1, 2734: 1, 2735: 1, 2736: 1, 2737: 1, 2738: 1, 2739: 1, 2740: 1, 2741: 1, 2743: 1, 2744: 1, 2745: 1, 2746: 1, 2747: 1, 2749: 1, 2751: 1, 2752: 1, 2753: 1, 2754: 1, 2755: 1, 2756: 1, 2757: 1, 2758: 1, 2760: 1, 2761: 1, 2762: 1, 2763: 1, 2764: 1, 2765: 1, 2766: 1, 2767: 1, 2768: 1, 2769: 1, 2770: 1, 2771: 1, 2772: 1, 2773: 1, 2774: 1, 2775: 1, 2776: 1, 2777: 1, 2778: 1, 2779: 1, 2781: 1, 2782: 1, 2783: 1, 2784: 1, 2785: 1, 2786: 1, 2787: 1, 2788: 1, 2790: 1, 2791: 1, 2792: 1, 2794: 1, 2795: 1, 2796: 1, 2797: 1, 2798: 1, 2799: 1, 2800: 1, 2801: 1, 2802: 1, 2804: 1, 2805: 1, 2806: 1, 2807: 1, 2808: 1, 2809: 1, 2810: 1, 2811: 1, 2812: 1, 2813: 1, 2814: 1, 2815: 1, 2816: 1, 2817: 1, 2818: 1, 2819: 1, 2820: 1, 2821: 1, 2822: 1, 2823: 1, 2825: 1, 2827: 1, 2828: 1, 2829: 1, 2830: 1, 2831: 1, 2832: 1, 2833: 1, 2834: 1, 2835: 1, 2837: 1, 2840: 1, 2841: 1, 2842: 1, 2843: 1, 2844: 1, 2845: 1, 2846: 1, 2847: 1, 2848: 1, 2849: 1, 2850: 1, 2852: 1, 2853: 1, 2854: 1, 2855: 1, 2856: 1, 2857: 1, 2858: 1, 2859: 1, 2860: 1, 2861: 1, 2862: 1, 2864: 1, 2865: 1, 2867: 1, 2868: 1, 2870: 1, 2872: 1, 2873: 1, 2874: 1, 2875: 1, 2876: 1, 2877: 1, 2878: 1, 2879: 1, 2880: 1, 2881: 1, 2882: 1, 2883: 1, 2884: 1, 2885: 1, 2886: 1, 2887: 1, 2888: 1, 2889: 1, 2890: 1, 2891: 1, 2892: 1, 2893: 1, 2894: 1, 2895: 1, 2896: 1, 2897: 1, 2898: 1, 2899: 1, 2900: 1, 2901: 1, 2902: 1, 2903: 1, 2904: 1, 2905: 1, 2906: 1, 2907: 1, 2908: 1, 2909: 1, 2910: 1, 2912: 1, 2913: 1, 2914: 1, 2915: 1, 2916: 1, 2917: 1, 2918: 1, 2920: 1, 2922: 1, 2923: 1, 2924: 1, 2925: 1, 2926: 1, 2927: 1, 2929: 1, 2930: 1, 2931: 1, 2932: 1, 2933: 1, 2934: 1, 2935: 1, 2936: 1, 2937: 1, 2938: 1, 2939: 1, 2940: 1, 2941: 1, 2942: 1, 2943: 1, 2944: 1, 2945: 1, 2946: 1, 2949: 1, 2950: 1, 2951: 1, 2952: 1, 2953: 1, 2954: 1, 2955: 1, 2956: 1, 2958: 1, 2960: 1, 2961: 1, 2962: 1, 2963: 1, 2964: 1, 2965: 1, 2966: 1, 2968: 1, 2969: 1, 2970: 1, 2971: 1, 2972: 1, 2973: 1, 2974: 1, 2975: 1, 2976: 1, 2977: 1, 2978: 1, 2979: 1, 2980: 1, 2982: 1, 2983: 1, 2984: 1, 2985: 1, 2986: 1, 2987: 1, 2988: 1, 2989: 1, 2990: 1, 2991: 1, 2992: 1, 2993: 1, 2994: 1, 2995: 1, 2996: 1, 2997: 1, 2998: 1, 2999: 1, 3001: 1, 3002: 1, 3004: 1, 3005: 1, 3006: 1, 3007: 1, 3008: 1, 3009: 1, 3011: 1, 3012: 1, 3013: 1, 3015: 1, 3016: 1, 3017: 1, 3018: 1, 3019: 1, 3020: 1, 3021: 1, 3022: 1, 3023: 1, 3024: 1, 3025: 1, 3026: 1, 3027: 1, 3028: 1, 3029: 1, 3031: 1, 3033: 1, 3034: 1, 3035: 1, 3036: 1, 3037: 1, 3038: 1, 3039: 1, 3040: 1, 3041: 1, 3042: 1, 3044: 1, 3046: 1, 3047: 1, 3048: 1, 3049: 1, 3050: 1, 3052: 1, 3053: 1, 3054: 1, 3055: 1, 3056: 1, 3057: 1, 3058: 1, 3059: 1, 3060: 1, 3061: 1, 3062: 1, 3063: 1, 3064: 1, 3065: 1, 3066: 1, 3067: 1, 3068: 1, 3070: 1, 3071: 1, 3072: 1, 3074: 1, 3075: 1, 3076: 1, 3077: 1, 3078: 1, 3079: 1, 3080: 1, 3081: 1, 3082: 1, 3083: 1, 3084: 1, 3085: 1, 3086: 1, 3087: 1, 3089: 1, 3090: 1, 3091: 1, 3092: 1, 3093: 1, 3094: 1, 3095: 1, 3096: 1, 3097: 1, 3098: 1, 3100: 1, 3101: 1, 3102: 1, 3103: 1, 3104: 1, 3105: 1, 3106: 1, 3107: 1, 3111: 1, 3112: 1, 3113: 1, 3114: 1, 3115: 1, 3116: 1, 3117: 1, 3118: 1, 3119: 1, 3120: 1, 3121: 1, 3122: 1, 3123: 1, 3124: 1, 3125: 1, 3126: 1, 3127: 1, 3128: 1, 3130: 1, 3131: 1, 3134: 1, 3135: 1, 3136: 1, 3137: 1, 3138: 1, 3139: 1, 3140: 1, 3141: 1, 3142: 1, 3143: 1, 3144: 1, 3145: 1, 3146: 1, 3147: 1, 3148: 1, 3149: 1, 3150: 1, 3152: 1, 3154: 1, 3155: 1, 3156: 1, 3157: 1, 3158: 1, 3159: 1, 3160: 1, 3161: 1, 3162: 1, 3163: 1, 3164: 1, 3165: 1, 3166: 1, 3167: 1, 3168: 1, 3169: 1, 3170: 1, 3173: 1, 3174: 1, 3176: 1, 3177: 1, 3178: 1, 3179: 1, 3180: 1, 3181: 1, 3182: 1, 3183: 1, 3184: 1, 3185: 1, 3187: 1, 3188: 1, 3190: 1, 3191: 1, 3192: 1, 3193: 1, 3194: 1, 3195: 1, 3196: 1, 3197: 1, 3198: 1, 3199: 1, 3200: 1, 3201: 1, 3202: 1, 3203: 1, 3204: 1, 3205: 1, 3206: 1, 3207: 1, 3208: 1, 3209: 1, 3210: 1, 3212: 1, 3214: 1, 3215: 1, 3216: 1, 3217: 1, 3218: 1, 3219: 1, 3220: 1, 3221: 1, 3223: 1, 3224: 1, 3225: 1, 3226: 1, 3227: 1, 3228: 1, 3229: 1, 3230: 1, 3231: 1, 3232: 1, 3233: 1, 3235: 1, 3236: 1, 3237: 1, 3238: 1, 3239: 1, 3241: 1, 3242: 1, 3243: 1, 3245: 1, 3246: 1, 3247: 1, 3248: 1, 3249: 1, 3250: 1, 3252: 1, 3253: 1, 3254: 1, 3255: 1, 3257: 1, 3258: 1, 3259: 1, 3260: 1, 3261: 1, 3262: 1, 3263: 1, 3264: 1, 3265: 1, 3266: 1, 3267: 1, 3268: 1, 3269: 1, 3270: 1, 3271: 1, 3272: 1, 3273: 1, 3274: 1, 3275: 1, 3276: 1, 3277: 1, 3278: 1, 3279: 1, 3280: 1, 3281: 1, 3282: 1, 3283: 1, 3284: 1, 3286: 1, 3289: 1, 3290: 1, 3291: 1, 3292: 1, 3293: 1, 3294: 1, 3295: 1, 3296: 1, 3297: 1, 3298: 1, 3299: 1, 3300: 1, 3302: 1, 3303: 1, 3304: 1, 3305: 1, 3306: 1, 3307: 1, 3308: 1, 3309: 1, 3310: 1, 3311: 1, 3312: 1, 3313: 1, 3315: 1, 3316: 1, 3317: 1, 3320: 1, 3321: 1, 3322: 1, 3323: 1, 3324: 1, 3325: 1, 3326: 1, 3327: 1, 3328: 1, 3331: 1, 3332: 1, 3333: 1, 3334: 1, 3335: 1, 3337: 1, 3338: 1, 3340: 1, 3341: 1, 3342: 1, 3343: 1, 3344: 1, 3345: 1, 3346: 1, 3347: 1, 3348: 1, 3349: 1, 3350: 1, 3351: 1, 3352: 1, 3353: 1, 3355: 1, 3356: 1, 3357: 1, 3358: 1, 3359: 1, 3360: 1, 3361: 1, 3363: 1, 3364: 1, 3366: 1, 3367: 1, 3368: 1, 3370: 1, 3371: 1, 3372: 1, 3373: 1, 3374: 1, 3377: 1, 3378: 1, 3379: 1, 3380: 1, 3382: 1, 3383: 1, 3384: 1, 3385: 1, 3386: 1, 3387: 1, 3388: 1, 3389: 1, 3390: 1, 3391: 1, 3392: 1, 3393: 1, 3394: 1, 3395: 1, 3397: 1, 3398: 1, 3399: 1, 3400: 1, 3401: 1, 3403: 1, 3404: 1, 3406: 1, 3407: 1, 3408: 1, 3411: 1, 3413: 1, 3414: 1, 3415: 1, 3416: 1, 3418: 1, 3419: 1, 3420: 1, 3423: 1, 3424: 1, 3427: 1, 3428: 1, 3430: 1, 3431: 1, 3432: 1, 3433: 1, 3434: 1, 3435: 1, 3436: 1, 3437: 1, 3438: 1, 3439: 1, 3440: 1, 3441: 1, 3442: 1, 3443: 1, 3445: 1, 3446: 1, 3447: 1, 3448: 1, 3450: 1, 3451: 1, 3453: 1, 3454: 1, 3455: 1, 3456: 1, 3459: 1, 3460: 1, 3461: 1, 3462: 1, 3464: 1, 3465: 1, 3466: 1, 3467: 1, 3468: 1, 3469: 1, 3470: 1, 3471: 1, 3472: 1, 3473: 1, 3474: 1, 3476: 1, 3477: 1, 3478: 1, 3479: 1, 3480: 1, 3481: 1, 3482: 1, 3483: 1, 3484: 1, 3485: 1, 3486: 1, 3487: 1, 3488: 1, 3489: 1, 3491: 1, 3492: 1, 3493: 1, 3494: 1, 3495: 1, 3496: 1, 3497: 1, 3498: 1, 3499: 1, 3500: 1, 3501: 1, 3502: 1, 3503: 1, 3504: 1, 3505: 1, 3506: 1, 3507: 1, 3509: 1, 3510: 1, 3511: 1, 3512: 1, 3513: 1, 3514: 1, 3515: 1, 3516: 1, 3517: 1, 3518: 1, 3519: 1, 3520: 1, 3521: 1, 3522: 1, 3523: 1, 3524: 1, 3525: 1, 3526: 1, 3527: 1, 3528: 1, 3529: 1, 3530: 1, 3531: 1, 3534: 1, 3536: 1, 3537: 1, 3538: 1, 3539: 1, 3540: 1, 3541: 1, 3542: 1, 3543: 1, 3544: 1, 3545: 1, 3546: 1, 3547: 1, 3548: 1, 3550: 1, 3551: 1, 3552: 1, 3553: 1, 3554: 1, 3555: 1, 3556: 1, 3557: 1, 3558: 1, 3559: 1, 3560: 1, 3561: 1, 3562: 1, 3563: 1, 3564: 1, 3565: 1, 3566: 1, 3567: 1, 3569: 1, 3570: 1, 3571: 1, 3572: 1, 3573: 1, 3574: 1, 3575: 1, 3576: 1, 3577: 1, 3579: 1, 3580: 1, 3581: 1, 3584: 1, 3586: 1, 3587: 1, 3588: 1, 3589: 1, 3590: 1, 3591: 1, 3592: 1, 3593: 1, 3594: 1, 3595: 1, 3596: 1, 3597: 1, 3598: 1, 3599: 1, 3600: 1, 3601: 1, 3602: 1, 3603: 1, 3604: 1, 3605: 1, 3606: 1, 3607: 1, 3608: 1, 3609: 1, 3610: 1, 3611: 1, 3612: 1, 3613: 1, 3614: 1, 3616: 1, 3618: 1, 3619: 1, 3620: 1, 3621: 1, 3622: 1, 3623: 1, 3625: 1, 3626: 1, 3627: 1, 3628: 1, 3629: 1, 3630: 1, 3631: 1, 3632: 1, 3633: 1, 3634: 1, 3635: 1, 3636: 1, 3637: 1, 3638: 1, 3639: 1, 3640: 1, 3642: 1, 3643: 1, 3644: 1, 3645: 1, 3646: 1, 3647: 1, 3648: 1, 3649: 1, 3650: 1, 3651: 1, 3652: 1, 3653: 1, 3654: 1, 3655: 1, 3656: 1, 3657: 1, 3658: 1, 3659: 1, 3660: 1, 3661: 1, 3662: 1, 3663: 1, 3664: 1, 3665: 1, 3666: 1, 3667: 1, 3668: 1, 3669: 1, 3671: 1, 3672: 1, 3673: 1, 3674: 1, 3675: 1, 3676: 1, 3677: 1, 3678: 1, 3679: 1, 3680: 1, 3681: 1, 3682: 1, 3683: 1, 3684: 1, 3685: 1, 3686: 1, 3687: 1, 3688: 1, 3689: 1, 3690: 1, 3691: 1, 3692: 1, 3693: 1, 3694: 1, 3695: 1, 3696: 1, 3697: 1, 3699: 1, 3700: 1, 3701: 1, 3702: 1, 3703: 1, 3704: 1, 3705: 1, 3706: 1, 3707: 1, 3708: 1, 3709: 1, 3710: 1, 3711: 1, 3712: 1, 3713: 1, 3714: 1, 3715: 1, 3716: 1, 3717: 1, 3718: 1, 3719: 1, 3720: 1, 3721: 1, 3722: 1, 3723: 1, 3724: 1, 3725: 1, 3727: 1, 3730: 1, 3731: 1, 3732: 1, 3734: 1, 3735: 1, 3736: 1, 3737: 1, 3738: 1, 3740: 1, 3741: 1, 3743: 1, 3744: 1, 3745: 1, 3746: 1, 3747: 1, 3748: 1, 3750: 1, 3751: 1, 3752: 1, 3753: 1, 3754: 1, 3755: 1, 3756: 1, 3757: 1, 3758: 1, 3759: 1, 3760: 1, 3761: 1, 3763: 1, 3764: 1, 3765: 1, 3766: 1, 3767: 1, 3768: 1, 3769: 1, 3770: 1, 3771: 1, 3772: 1, 3773: 1, 3774: 1, 3775: 1, 3776: 1, 3777: 1, 3778: 1, 3780: 1, 3781: 1, 3782: 1, 3783: 1, 3784: 1, 3786: 1, 3788: 1, 3789: 1, 3790: 1, 3791: 1, 3792: 1, 3793: 1, 3794: 1, 3795: 1, 3796: 1, 3797: 1, 3798: 1, 3801: 1, 3802: 1, 3803: 1, 3804: 1, 3805: 1, 3806: 1, 3809: 1, 3810: 1, 3811: 1, 3812: 1, 3814: 1, 3815: 1, 3817: 1, 3818: 1, 3819: 1, 3820: 1, 3821: 1, 3822: 1, 3823: 1, 3824: 1, 3825: 1, 3826: 1, 3827: 1, 3828: 1, 3829: 1, 3831: 1, 3834: 1, 3835: 1, 3836: 1, 3837: 1, 3838: 1, 3840: 1, 3841: 1, 3842: 1, 3843: 1, 3844: 1, 3845: 1, 3846: 1, 3847: 1, 3848: 1, 3849: 1, 3850: 1, 3851: 1, 3852: 1, 3853: 1, 3854: 1, 3855: 1, 3856: 1, 3857: 1, 3858: 1, 3860: 1, 3861: 1, 3862: 1, 3863: 1, 3864: 1, 3865: 1, 3866: 1, 3867: 1, 3868: 1, 3869: 1, 3870: 1, 3871: 1, 3872: 1, 3873: 1, 3874: 1, 3875: 1, 3876: 1, 3877: 1, 3878: 1, 3879: 1, 3880: 1, 3881: 1, 3882: 1, 3883: 1, 3884: 1, 3886: 1, 3888: 1, 3889: 1, 3890: 1, 3891: 1, 3892: 1, 3893: 1, 3894: 1, 3895: 1, 3896: 1, 3897: 1, 3898: 1, 3899: 1, 3900: 1, 3901: 1, 3902: 1, 3903: 1, 3904: 1, 3906: 1, 3907: 1, 3908: 1, 3910: 1, 3911: 1, 3912: 1, 3913: 1, 3914: 1, 3915: 1, 3916: 1, 3917: 1, 3919: 1, 3920: 1, 3921: 1, 3922: 1, 3923: 1, 3924: 1, 3926: 1, 3927: 1, 3928: 1, 3929: 1, 3931: 1, 3932: 1, 3933: 1, 3934: 1, 3935: 1, 3936: 1, 3937: 1, 3938: 1, 3939: 1, 3941: 1, 3942: 1, 3943: 1, 3944: 1, 3945: 1, 3946: 1, 3949: 1, 3950: 1, 3951: 1, 3952: 1, 3953: 1, 3954: 1, 3955: 1, 3956: 1, 3957: 1, 3958: 1, 3959: 1, 3960: 1, 3961: 1, 3962: 1, 3963: 1, 3964: 1, 3965: 1, 3966: 1, 3967: 1, 3968: 1, 3969: 1, 3970: 1, 3971: 1, 3973: 1, 3974: 1, 3975: 1, 3978: 1, 3979: 1, 3980: 1, 3981: 1, 3984: 1, 3985: 1, 3986: 1, 3987: 1, 3988: 1, 3989: 1, 3990: 1, 3991: 1, 3992: 1, 3993: 1, 3994: 1, 3995: 1, 3996: 1, 3997: 1, 3998: 1, 3999: 1, 4000: 1, 4001: 1, 4002: 1, 4003: 1, 4004: 1, 4005: 1, 4008: 1, 4009: 1, 4010: 1, 4011: 1, 4012: 1, 4013: 1, 4014: 1, 4015: 1, 4016: 1, 4017: 1, 4018: 1, 4019: 1, 4020: 1, 4021: 1, 4022: 1, 4023: 1, 4026: 1, 4027: 1, 4028: 1, 4029: 1, 4030: 1, 4031: 1, 4032: 1, 4033: 1, 4034: 1, 4036: 1, 4037: 1, 4038: 1, 4039: 1, 4040: 1, 4042: 1, 4043: 1, 4044: 1, 4045: 1, 4046: 1, 4048: 1, 4049: 1, 4050: 1, 4051: 1, 4052: 1, 4053: 1, 4054: 1, 4055: 1, 4056: 1, 4057: 1, 4058: 1, 4059: 1, 4060: 1, 4061: 1, 4062: 1, 4063: 1, 4064: 1, 4065: 1, 4066: 1, 4067: 1, 4069: 1, 4070: 1, 4071: 1, 4072: 1, 4073: 1, 4074: 1, 4075: 1, 4076: 1, 4077: 1, 4079: 1, 4080: 1, 4081: 1, 4082: 1, 4083: 1, 4084: 1, 4085: 1, 4086: 1, 4087: 1, 4089: 1, 4090: 1, 4091: 1, 4092: 1, 4093: 1, 4094: 1, 4095: 1, 4096: 1, 4097: 1, 4098: 1, 4099: 1, 4100: 1, 4101: 1, 4102: 1, 4103: 1, 4104: 1, 4105: 1, 4106: 1, 4107: 1, 4108: 1, 4109: 1, 4110: 1, 4111: 1, 4112: 1, 4113: 1, 4114: 1, 4115: 1, 4116: 1, 4117: 1, 4118: 1, 4119: 1, 4120: 1, 4121: 1, 4122: 1, 4123: 1, 4124: 1, 4125: 1, 4126: 1, 4127: 1, 4128: 1, 4129: 1, 4130: 1, 4131: 1, 4132: 1, 4133: 1, 4134: 1, 4136: 1, 4137: 1, 4138: 1, 4139: 1, 4141: 1, 4142: 1, 4143: 1, 4144: 1, 4145: 1, 4146: 1, 4147: 1, 4148: 1, 4149: 1, 4150: 1, 4151: 1, 4152: 1, 4153: 1, 4154: 1, 4155: 1, 4156: 1, 4157: 1, 4159: 1, 4160: 1, 4161: 1, 4162: 1, 4163: 1, 4164: 1, 4168: 1, 4169: 1, 4170: 1, 4171: 1, 4172: 1, 4173: 1, 4174: 1, 4175: 1, 4176: 1, 4177: 1, 4178: 1, 4180: 1, 4181: 1, 4182: 1, 4184: 1, 4185: 1, 4186: 1, 4187: 1, 4188: 1, 4189: 1, 4190: 1, 4191: 1, 4192: 1, 4193: 1, 4194: 1, 4195: 1, 4196: 1, 4197: 1, 4198: 1, 4199: 1, 4200: 1, 4201: 1, 4202: 1, 4204: 1, 4205: 1, 4206: 1, 4207: 1, 4208: 1, 4209: 1, 4210: 1, 4211: 1, 4212: 1, 4213: 1, 4214: 1, 4215: 1, 4216: 1, 4217: 1, 4218: 1, 4219: 1, 4221: 1, 4222: 1, 4223: 1, 4224: 1, 4225: 1, 4226: 1, 4227: 1, 4228: 1, 4229: 1, 4230: 1, 4231: 1, 4233: 1, 4234: 1, 4235: 1, 4236: 1, 4237: 1, 4238: 1, 4239: 1, 4240: 1, 4241: 1, 4242: 1, 4243: 1, 4244: 1, 4246: 1, 4247: 1, 4248: 1, 4249: 1, 4250: 1, 4251: 1, 4252: 1, 4253: 1, 4254: 1, 4255: 1, 4256: 1, 4257: 1, 4258: 1, 4259: 1, 4260: 1, 4261: 1, 4263: 1, 4264: 1, 4265: 1, 4266: 1, 4267: 1, 4268: 1, 4269: 1, 4270: 1, 4272: 1, 4273: 1, 4274: 1, 4275: 1, 4276: 1, 4277: 1, 4278: 1, 4279: 1, 4281: 1, 4282: 1, 4283: 1, 4284: 1, 4285: 1, 4286: 1, 4287: 1, 4288: 1, 4289: 1, 4290: 1, 4291: 1, 4292: 1, 4293: 1, 4294: 1, 4295: 1, 4296: 1, 4298: 1, 4299: 1, 4300: 1, 4301: 1, 4302: 1, 4303: 1, 4304: 1, 4305: 1, 4306: 1, 4307: 1, 4308: 1, 4309: 1, 4310: 1, 4312: 1, 4313: 1, 4314: 1, 4315: 1, 4316: 1, 4317: 1, 4318: 1, 4319: 1, 4320: 1, 4321: 1, 4322: 1, 4323: 1, 4324: 1, 4325: 1, 4326: 1, 4327: 1, 4329: 1, 4330: 1, 4331: 1, 4332: 1, 4333: 1, 4334: 1, 4335: 1, 4338: 1, 4339: 1, 4340: 1, 4341: 1, 4343: 1, 4344: 1, 4345: 1, 4347: 1, 4348: 1, 4349: 1, 4350: 1, 4351: 1, 4352: 1, 4353: 1, 4354: 1, 4355: 1, 4357: 1, 4358: 1, 4359: 1, 4360: 1, 4361: 1, 4362: 1, 4363: 1, 4364: 1, 4365: 1, 4366: 1, 4367: 1, 4368: 1, 4369: 1, 4370: 1, 4371: 1, 4372: 1, 4374: 1, 4375: 1, 4376: 1, 4377: 1, 4378: 1, 4379: 1, 4380: 1, 4381: 1, 4382: 1, 4383: 1, 4384: 1, 4385: 1, 4386: 1})\n"
     ]
    },
    {
     "name": "stdout",
     "output_type": "stream",
     "text": [
      "Model saved\n"
     ]
    }
   ],
   "source": [
    "### Train your model here.\n",
    "### Calculate and report the accuracy on the training and validation set.\n",
    "### Once a final model architecture is selected, \n",
    "### the accuracy on the test set should be calculated and reported as well.\n",
    "### Feel free to use as many code cells as needed.\n",
    "\n",
    "mistake_count = Counter(range(n_validation))\n",
    "\n",
    "with tf.Session() as sess:\n",
    "    sess.run(tf.global_variables_initializer())\n",
    "    num_examples = len(X_train)\n",
    "    \n",
    "    print(\"Training ({0} batches of {1})...\".format(EPOCHS, BATCH_SIZE))\n",
    "    print()\n",
    "    for i in range(EPOCHS):\n",
    "        X_train, y_train = shuffle(X_train, y_train)\n",
    "        for offset in range(0, num_examples, BATCH_SIZE):\n",
    "            end = offset + BATCH_SIZE\n",
    "            batch_x, batch_y = X_train[offset:end], y_train[offset:end]\n",
    "            sess.run(training_operation, feed_dict={x: batch_x, y: batch_y})\n",
    "            \n",
    "        validation_accuracy = evaluate(X_valid, y_valid)\n",
    "        print(\"EPOCH {} ...\".format(i+1))\n",
    "        print(\"Validation Accuracy = {:.3f}\".format(validation_accuracy))\n",
    "        idx_mistakes = find_mistakes(X_valid, y_valid)\n",
    "        mistake_count += Counter(idx_mistakes)\n",
    "        \n",
    "    print()\n",
    "    print('mistake_count=', mistake_count)\n",
    "    \n",
    "    saver.save(sess, './lenet')\n",
    "    print(\"Model saved\")"
   ]
  },
  {
   "cell_type": "code",
   "execution_count": null,
   "metadata": {},
   "outputs": [],
   "source": [
    "with tf.Session() as sess:\n",
    "    saver.restore(sess, tf.train.latest_checkpoint('.'))\n",
    "\n",
    "    test_accuracy = evaluate(X_test, y_test)\n",
    "    print(\"Test Accuracy = {:.3f}\".format(test_accuracy))"
   ]
  },
  {
   "cell_type": "markdown",
   "metadata": {},
   "source": [
    "---\n",
    "\n",
    "## Step 3: Test a Model on New Images\n",
    "\n",
    "To give yourself more insight into how your model is working, download at least five pictures of German traffic signs from the web and use your model to predict the traffic sign type.\n",
    "\n",
    "You may find `signnames.csv` useful as it contains mappings from the class id (integer) to the actual sign name."
   ]
  },
  {
   "cell_type": "markdown",
   "metadata": {},
   "source": [
    "### Load and Output the Images"
   ]
  },
  {
   "cell_type": "code",
   "execution_count": null,
   "metadata": {
    "collapsed": true
   },
   "outputs": [],
   "source": [
    "### Load the images and plot them here.\n",
    "### Feel free to use as many code cells as needed."
   ]
  },
  {
   "cell_type": "markdown",
   "metadata": {},
   "source": [
    "### Predict the Sign Type for Each Image"
   ]
  },
  {
   "cell_type": "code",
   "execution_count": 3,
   "metadata": {
    "collapsed": true
   },
   "outputs": [],
   "source": [
    "### Run the predictions here and use the model to output the prediction for each image.\n",
    "### Make sure to pre-process the images with the same pre-processing pipeline used earlier.\n",
    "### Feel free to use as many code cells as needed."
   ]
  },
  {
   "cell_type": "markdown",
   "metadata": {},
   "source": [
    "### Analyze Performance"
   ]
  },
  {
   "cell_type": "code",
   "execution_count": 4,
   "metadata": {
    "collapsed": true
   },
   "outputs": [],
   "source": [
    "### Calculate the accuracy for these 5 new images. \n",
    "### For example, if the model predicted 1 out of 5 signs correctly, it's 20% accurate on these new images."
   ]
  },
  {
   "cell_type": "markdown",
   "metadata": {},
   "source": [
    "### Output Top 5 Softmax Probabilities For Each Image Found on the Web"
   ]
  },
  {
   "cell_type": "markdown",
   "metadata": {},
   "source": [
    "For each of the new images, print out the model's softmax probabilities to show the **certainty** of the model's predictions (limit the output to the top 5 probabilities for each image). [`tf.nn.top_k`](https://www.tensorflow.org/versions/r0.12/api_docs/python/nn.html#top_k) could prove helpful here. \n",
    "\n",
    "The example below demonstrates how tf.nn.top_k can be used to find the top k predictions for each image.\n",
    "\n",
    "`tf.nn.top_k` will return the values and indices (class ids) of the top k predictions. So if k=3, for each sign, it'll return the 3 largest probabilities (out of a possible 43) and the correspoding class ids.\n",
    "\n",
    "Take this numpy array as an example. The values in the array represent predictions. The array contains softmax probabilities for five candidate images with six possible classes. `tf.nn.top_k` is used to choose the three classes with the highest probability:\n",
    "\n",
    "```\n",
    "# (5, 6) array\n",
    "a = np.array([[ 0.24879643,  0.07032244,  0.12641572,  0.34763842,  0.07893497,\n",
    "         0.12789202],\n",
    "       [ 0.28086119,  0.27569815,  0.08594638,  0.0178669 ,  0.18063401,\n",
    "         0.15899337],\n",
    "       [ 0.26076848,  0.23664738,  0.08020603,  0.07001922,  0.1134371 ,\n",
    "         0.23892179],\n",
    "       [ 0.11943333,  0.29198961,  0.02605103,  0.26234032,  0.1351348 ,\n",
    "         0.16505091],\n",
    "       [ 0.09561176,  0.34396535,  0.0643941 ,  0.16240774,  0.24206137,\n",
    "         0.09155967]])\n",
    "```\n",
    "\n",
    "Running it through `sess.run(tf.nn.top_k(tf.constant(a), k=3))` produces:\n",
    "\n",
    "```\n",
    "TopKV2(values=array([[ 0.34763842,  0.24879643,  0.12789202],\n",
    "       [ 0.28086119,  0.27569815,  0.18063401],\n",
    "       [ 0.26076848,  0.23892179,  0.23664738],\n",
    "       [ 0.29198961,  0.26234032,  0.16505091],\n",
    "       [ 0.34396535,  0.24206137,  0.16240774]]), indices=array([[3, 0, 5],\n",
    "       [0, 1, 4],\n",
    "       [0, 5, 1],\n",
    "       [1, 3, 5],\n",
    "       [1, 4, 3]], dtype=int32))\n",
    "```\n",
    "\n",
    "Looking just at the first row we get `[ 0.34763842,  0.24879643,  0.12789202]`, you can confirm these are the 3 largest probabilities in `a`. You'll also notice `[3, 0, 5]` are the corresponding indices."
   ]
  },
  {
   "cell_type": "code",
   "execution_count": 3,
   "metadata": {
    "collapsed": true
   },
   "outputs": [],
   "source": [
    "### Print out the top five softmax probabilities for the predictions on the German traffic sign images found on the web. \n",
    "### Feel free to use as many code cells as needed."
   ]
  },
  {
   "cell_type": "markdown",
   "metadata": {},
   "source": [
    "### Project Writeup\n",
    "\n",
    "Once you have completed the code implementation, document your results in a project writeup using this [template](https://github.com/udacity/CarND-Traffic-Sign-Classifier-Project/blob/master/writeup_template.md) as a guide. The writeup can be in a markdown or pdf file. "
   ]
  },
  {
   "cell_type": "markdown",
   "metadata": {},
   "source": [
    "> **Note**: Once you have completed all of the code implementations and successfully answered each question above, you may finalize your work by exporting the iPython Notebook as an HTML document. You can do this by using the menu above and navigating to  \\n\",\n",
    "    \"**File -> Download as -> HTML (.html)**. Include the finished document along with this notebook as your submission."
   ]
  },
  {
   "cell_type": "markdown",
   "metadata": {},
   "source": [
    "---\n",
    "\n",
    "## Step 4 (Optional): Visualize the Neural Network's State with Test Images\n",
    "\n",
    " This Section is not required to complete but acts as an additional excersise for understaning the output of a neural network's weights. While neural networks can be a great learning device they are often referred to as a black box. We can understand what the weights of a neural network look like better by plotting their feature maps. After successfully training your neural network you can see what it's feature maps look like by plotting the output of the network's weight layers in response to a test stimuli image. From these plotted feature maps, it's possible to see what characteristics of an image the network finds interesting. For a sign, maybe the inner network feature maps react with high activation to the sign's boundary outline or to the contrast in the sign's painted symbol.\n",
    "\n",
    " Provided for you below is the function code that allows you to get the visualization output of any tensorflow weight layer you want. The inputs to the function should be a stimuli image, one used during training or a new one you provided, and then the tensorflow variable name that represents the layer's state during the training process, for instance if you wanted to see what the [LeNet lab's](https://classroom.udacity.com/nanodegrees/nd013/parts/fbf77062-5703-404e-b60c-95b78b2f3f9e/modules/6df7ae49-c61c-4bb2-a23e-6527e69209ec/lessons/601ae704-1035-4287-8b11-e2c2716217ad/concepts/d4aca031-508f-4e0b-b493-e7b706120f81) feature maps looked like for it's second convolutional layer you could enter conv2 as the tf_activation variable.\n",
    "\n",
    "For an example of what feature map outputs look like, check out NVIDIA's results in their paper [End-to-End Deep Learning for Self-Driving Cars](https://devblogs.nvidia.com/parallelforall/deep-learning-self-driving-cars/) in the section Visualization of internal CNN State. NVIDIA was able to show that their network's inner weights had high activations to road boundary lines by comparing feature maps from an image with a clear path to one without. Try experimenting with a similar test to show that your trained network's weights are looking for interesting features, whether it's looking at differences in feature maps from images with or without a sign, or even what feature maps look like in a trained network vs a completely untrained one on the same sign image.\n",
    "\n",
    "<figure>\n",
    " <img src=\"visualize_cnn.png\" width=\"380\" alt=\"Combined Image\" />\n",
    " <figcaption>\n",
    " <p></p> \n",
    " <p style=\"text-align: center;\"> Your output should look something like this (above)</p> \n",
    " </figcaption>\n",
    "</figure>\n",
    " <p></p> \n"
   ]
  },
  {
   "cell_type": "code",
   "execution_count": null,
   "metadata": {
    "collapsed": true
   },
   "outputs": [],
   "source": [
    "### Visualize your network's feature maps here.\n",
    "### Feel free to use as many code cells as needed.\n",
    "\n",
    "# image_input: the test image being fed into the network to produce the feature maps\n",
    "# tf_activation: should be a tf variable name used during your training procedure that represents the calculated state of a specific weight layer\n",
    "# activation_min/max: can be used to view the activation contrast in more detail, by default matplot sets min and max to the actual min and max values of the output\n",
    "# plt_num: used to plot out multiple different weight feature map sets on the same block, just extend the plt number for each new feature map entry\n",
    "\n",
    "def outputFeatureMap(image_input, tf_activation, activation_min=-1, activation_max=-1 ,plt_num=1):\n",
    "    # Here make sure to preprocess your image_input in a way your network expects\n",
    "    # with size, normalization, ect if needed\n",
    "    # image_input =\n",
    "    # Note: x should be the same name as your network's tensorflow data placeholder variable\n",
    "    # If you get an error tf_activation is not defined it may be having trouble accessing the variable from inside a function\n",
    "    activation = tf_activation.eval(session=sess,feed_dict={x : image_input})\n",
    "    featuremaps = activation.shape[3]\n",
    "    plt.figure(plt_num, figsize=(15,15))\n",
    "    for featuremap in range(featuremaps):\n",
    "        plt.subplot(6,8, featuremap+1) # sets the number of feature maps to show on each row and column\n",
    "        plt.title('FeatureMap ' + str(featuremap)) # displays the feature map number\n",
    "        if activation_min != -1 & activation_max != -1:\n",
    "            plt.imshow(activation[0,:,:, featuremap], interpolation=\"nearest\", vmin =activation_min, vmax=activation_max, cmap=\"gray\")\n",
    "        elif activation_max != -1:\n",
    "            plt.imshow(activation[0,:,:, featuremap], interpolation=\"nearest\", vmax=activation_max, cmap=\"gray\")\n",
    "        elif activation_min !=-1:\n",
    "            plt.imshow(activation[0,:,:, featuremap], interpolation=\"nearest\", vmin=activation_min, cmap=\"gray\")\n",
    "        else:\n",
    "            plt.imshow(activation[0,:,:, featuremap], interpolation=\"nearest\", cmap=\"gray\")"
   ]
  }
 ],
 "metadata": {
  "anaconda-cloud": {},
  "kernelspec": {
   "display_name": "Python 3",
   "language": "python",
   "name": "python3"
  },
  "language_info": {
   "codemirror_mode": {
    "name": "ipython",
    "version": 3
   },
   "file_extension": ".py",
   "mimetype": "text/x-python",
   "name": "python",
   "nbconvert_exporter": "python",
   "pygments_lexer": "ipython3",
   "version": "3.6.3"
  }
 },
 "nbformat": 4,
 "nbformat_minor": 1
}
