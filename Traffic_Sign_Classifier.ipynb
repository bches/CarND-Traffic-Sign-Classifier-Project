{
 "cells": [
  {
   "cell_type": "markdown",
   "metadata": {},
   "source": [
    "# Self-Driving Car Engineer Nanodegree\n",
    "\n",
    "## Deep Learning\n",
    "\n",
    "## Project: Build a Traffic Sign Recognition Classifier\n",
    "\n",
    "In this notebook, a template is provided for you to implement your functionality in stages, which is required to successfully complete this project. If additional code is required that cannot be included in the notebook, be sure that the Python code is successfully imported and included in your submission if necessary. \n",
    "\n",
    "> **Note**: Once you have completed all of the code implementations, you need to finalize your work by exporting the iPython Notebook as an HTML document. Before exporting the notebook to html, all of the code cells need to have been run so that reviewers can see the final implementation and output. You can then export the notebook by using the menu above and navigating to  \\n\",\n",
    "    \"**File -> Download as -> HTML (.html)**. Include the finished document along with this notebook as your submission. \n",
    "\n",
    "In addition to implementing code, there is a writeup to complete. The writeup should be completed in a separate file, which can be either a markdown file or a pdf document. There is a [write up template](https://github.com/udacity/CarND-Traffic-Sign-Classifier-Project/blob/master/writeup_template.md) that can be used to guide the writing process. Completing the code template and writeup template will cover all of the [rubric points](https://review.udacity.com/#!/rubrics/481/view) for this project.\n",
    "\n",
    "The [rubric](https://review.udacity.com/#!/rubrics/481/view) contains \"Stand Out Suggestions\" for enhancing the project beyond the minimum requirements. The stand out suggestions are optional. If you decide to pursue the \"stand out suggestions\", you can include the code in this Ipython notebook and also discuss the results in the writeup file.\n",
    "\n",
    "\n",
    ">**Note:** Code and Markdown cells can be executed using the **Shift + Enter** keyboard shortcut. In addition, Markdown cells can be edited by typically double-clicking the cell to enter edit mode."
   ]
  },
  {
   "cell_type": "markdown",
   "metadata": {},
   "source": [
    "---\n",
    "## Step 0: Load The Data"
   ]
  },
  {
   "cell_type": "code",
   "execution_count": 1,
   "metadata": {},
   "outputs": [],
   "source": [
    "# Load pickled data\n",
    "import pickle\n",
    "\n",
    "# TODO: Fill this in based on where you saved the training and testing data\n",
    "\n",
    "training_file = '../data/train.p'\n",
    "validation_file = '../data/valid.p'\n",
    "testing_file = '../data/test.p'\n",
    "\n",
    "with open(training_file, mode='rb') as f:\n",
    "    train = pickle.load(f)\n",
    "with open(validation_file, mode='rb') as f:\n",
    "    valid = pickle.load(f)\n",
    "with open(testing_file, mode='rb') as f:\n",
    "    test = pickle.load(f)\n",
    "    \n",
    "X_train, y_train = train['features'], train['labels']\n",
    "X_valid, y_valid = valid['features'], valid['labels']\n",
    "X_test, y_test = test['features'], test['labels']"
   ]
  },
  {
   "cell_type": "markdown",
   "metadata": {},
   "source": [
    "---\n",
    "\n",
    "## Step 1: Dataset Summary & Exploration\n",
    "\n",
    "The pickled data is a dictionary with 4 key/value pairs:\n",
    "\n",
    "- `'features'` is a 4D array containing raw pixel data of the traffic sign images, (num examples, width, height, channels).\n",
    "- `'labels'` is a 1D array containing the label/class id of the traffic sign. The file `signnames.csv` contains id -> name mappings for each id.\n",
    "- `'sizes'` is a list containing tuples, (width, height) representing the original width and height the image.\n",
    "- `'coords'` is a list containing tuples, (x1, y1, x2, y2) representing coordinates of a bounding box around the sign in the image. **THESE COORDINATES ASSUME THE ORIGINAL IMAGE. THE PICKLED DATA CONTAINS RESIZED VERSIONS (32 by 32) OF THESE IMAGES**\n",
    "\n",
    "Complete the basic data summary below. Use python, numpy and/or pandas methods to calculate the data summary rather than hard coding the results. For example, the [pandas shape method](http://pandas.pydata.org/pandas-docs/stable/generated/pandas.DataFrame.shape.html) might be useful for calculating some of the summary results. "
   ]
  },
  {
   "cell_type": "markdown",
   "metadata": {},
   "source": [
    "### Provide a Basic Summary of the Data Set Using Python, Numpy and/or Pandas"
   ]
  },
  {
   "cell_type": "code",
   "execution_count": 2,
   "metadata": {},
   "outputs": [
    {
     "name": "stdout",
     "output_type": "stream",
     "text": [
      "Number of training examples = 34799\n",
      "Number of validation examples = 4410\n",
      "Number of testing examples = 12630\n",
      "Image data shape = (32, 32)\n",
      "Number of classes = 43\n",
      "\n",
      "training class counts: Counter({2: 2010, 1: 1980, 13: 1920, 12: 1890, 38: 1860, 10: 1800, 4: 1770, 5: 1650, 25: 1350, 9: 1320, 7: 1290, 3: 1260, 8: 1260, 11: 1170, 35: 1080, 18: 1080, 17: 990, 31: 690, 14: 690, 33: 599, 26: 540, 15: 540, 28: 480, 23: 450, 30: 390, 16: 360, 34: 360, 6: 360, 36: 330, 22: 330, 40: 300, 20: 300, 39: 270, 21: 270, 29: 240, 24: 240, 41: 210, 42: 210, 32: 210, 27: 210, 37: 180, 19: 180, 0: 180})\n"
     ]
    }
   ],
   "source": [
    "### Replace each question mark with the appropriate value. \n",
    "### Use python, pandas or numpy methods rather than hard coding the results\n",
    "\n",
    "\n",
    "# TODO: Number of training examples\n",
    "N, W, H, Ch = X_train.shape\n",
    "n_train = N\n",
    "assert(N==len(y_train))\n",
    "\n",
    "# TODO: Number of validation examples\n",
    "N, W, H, Ch = X_valid.shape\n",
    "n_validation = N\n",
    "assert(N==len(y_valid))\n",
    "\n",
    "# TODO: Number of testing examples.\n",
    "N, W, H, Ch = X_test.shape\n",
    "n_test = N\n",
    "assert(N==len(y_test))\n",
    "\n",
    "# TODO: What's the shape of an traffic sign image?\n",
    "image_shape = W, H\n",
    "\n",
    "# TODO: How many unique classes/labels there are in the dataset.\n",
    "from collections import Counter\n",
    "c = Counter(y_train)\n",
    "n_classes = len(c)\n",
    "\n",
    "print(\"Number of training examples =\", n_train)\n",
    "print(\"Number of validation examples =\", n_validation)\n",
    "print(\"Number of testing examples =\", n_test)\n",
    "print(\"Image data shape =\", image_shape)\n",
    "print(\"Number of classes =\", n_classes)\n",
    "print()\n",
    "print('training class counts:', c)\n",
    "\n",
    "c_valid = Counter(y_valid)\n",
    "c_test = Counter(y_test)"
   ]
  },
  {
   "cell_type": "markdown",
   "metadata": {},
   "source": [
    "### Include an exploratory visualization of the dataset"
   ]
  },
  {
   "cell_type": "markdown",
   "metadata": {},
   "source": [
    "Visualize the German Traffic Signs Dataset using the pickled file(s). This is open ended, suggestions include: plotting traffic sign images, plotting the count of each sign, etc. \n",
    "\n",
    "The [Matplotlib](http://matplotlib.org/) [examples](http://matplotlib.org/examples/index.html) and [gallery](http://matplotlib.org/gallery.html) pages are a great resource for doing visualizations in Python.\n",
    "\n",
    "**NOTE:** It's recommended you start with something simple first. If you wish to do more, come back to it after you've completed the rest of the sections. It can be interesting to look at the distribution of classes in the training, validation and test set. Is the distribution the same? Are there more examples of some classes than others?"
   ]
  },
  {
   "cell_type": "code",
   "execution_count": 4,
   "metadata": {},
   "outputs": [
    {
     "name": "stdout",
     "output_type": "stream",
     "text": [
      "\n",
      "training class average label count: 809\n",
      "std dev of training class label count: 619\n",
      "labels below 1 std dev of average for training class label count: {0, 6, 14, 15, 16, 19, 20, 21, 22, 23, 24, 26, 27, 28, 29, 30, 31, 32, 33, 34, 36, 37, 39, 40, 41, 42}\n",
      "training class label count minimum: 809\n",
      "number of copies to add to the underrepresented training labels: 629\n",
      "\n",
      "validation class average label count: 102\n",
      "std dev of validation class label count: 68\n",
      "labels below 1 std dev of average for validation class label count: {0, 6, 14, 15, 16, 19, 20, 21, 22, 23, 24, 26, 27, 28, 29, 30, 31, 32, 33, 34, 36, 37, 39, 40, 41, 42}\n",
      "valid class label count minimum: 102\n",
      "number of copies to add to the underrepresented validation labels: 72\n",
      "\n",
      "test class average label count: 293\n",
      "std dev of test class label count: 230\n",
      "labels below 1 std dev of average for test class label count: {0, 6, 14, 15, 16, 19, 20, 21, 22, 23, 24, 26, 27, 28, 29, 30, 31, 32, 33, 34, 36, 37, 39, 40, 41, 42}\n",
      "test class label count minimum: 293\n",
      "number of copies to add to the underrepresented test labels: 233\n",
      "\n",
      "Most Common training classes:\n",
      "[(2, 2010), (1, 1980), (13, 1920), (12, 1890), (38, 1860), (10, 1800), (4, 1770), (5, 1650), (25, 1350), (9, 1320), (7, 1290), (3, 1260), (8, 1260), (11, 1170), (35, 1080), (18, 1080), (17, 990), (31, 690), (14, 690), (33, 599), (26, 540), (15, 540), (28, 480), (23, 450), (30, 390), (16, 360), (34, 360), (6, 360), (36, 330), (22, 330), (40, 300), (20, 300), (39, 270), (21, 270), (29, 240), (24, 240), (41, 210), (42, 210), (32, 210), (27, 210), (37, 180), (19, 180), (0, 180)]\n",
      "\n",
      "17 most common classes are 73.795% of the data set\n",
      "S.shape: (34799, 3)\n",
      "S[index,:]= [ 0.00315733  0.00432287  0.00530361]\n",
      "\n",
      "|loR|= 52\n",
      "|loG|= 276\n",
      "|loB|= 130\n",
      "\n",
      "\n",
      "lo_std= {6658, 6659, 22021, 22022, 22023, 22028, 22029, 22030, 22031, 22032, 22033, 22034, 22035, 6312, 22038, 22039, 22040, 8101, 15136, 15137, 15145, 15146, 15148, 15149, 8100, 8102, 11828, 12342, 12343, 8760, 12345, 11834, 12347, 8764, 24637, 11836, 12349, 24640, 24641, 11842, 24642, 24643, 24644, 24645, 24646, 24647, 24648, 8778, 8779, 8780, 24649, 24650, 24651, 24652, 26701, 26702, 26703, 24656, 24659, 8784, 22104, 22105, 8538, 31069, 21605, 21606, 21607, 8772, 8773, 8774, 8775, 8776, 11829, 19326, 8777, 19328, 19329, 19331, 11830, 11831, 11832, 6540, 11833, 19349, 6300, 6301, 6302, 6303, 6304, 6305, 6306, 6307, 6308, 6309, 6310, 6311, 18600, 6313, 6314, 6315, 18601, 15787, 15788, 15789, 15790, 15791, 8117, 3510, 8118, 8121, 8123, 14013, 14014, 34493, 34494, 34495, 34496, 34497, 34498, 17855, 12864, 18900, 21210, 18907, 21211, 21212, 21213, 21214, 21215, 21216, 21217, 21218, 21219, 21221, 21220, 231, 232, 233, 6640, 15607, 6655}\n",
      "|lo_std|= 141\n",
      "\n",
      "loR&loG&loB= {19329, 22034, 22035, 15136, 6306, 6307, 6308, 8100, 8101, 8102, 6312, 11828, 11829, 11830, 11831, 11832, 11833, 21210, 21211, 21212, 21213, 21214, 21215, 21216, 21217, 21218, 21219, 21220, 6655}\n",
      "|loR&loG&loB|= 29\n",
      "\n",
      "|keep|= 34658\n"
     ]
    },
    {
     "data": {
      "image/png": "[encoded data removed]",
      "text/plain": [
       "<matplotlib.figure.Figure at 0x7f02fce3dd30>"
      ]
     },
     "metadata": {
      "needs_background": "light"
     },
     "output_type": "display_data"
    },
    {
     "data": {
      "image/png": "[encoded data removed]",
      "text/plain": [
       "<matplotlib.figure.Figure at 0x7f02f54db0f0>"
      ]
     },
     "metadata": {
      "needs_background": "light"
     },
     "output_type": "display_data"
    },
    {
     "data": {
      "image/png": "[encoded data removed]",
      "text/plain": [
       "<matplotlib.figure.Figure at 0x7f02f548eba8>"
      ]
     },
     "metadata": {
      "needs_background": "light"
     },
     "output_type": "display_data"
    },
    {
     "data": {
      "image/png": "[encoded data removed]",
      "text/plain": [
       "<matplotlib.figure.Figure at 0x7f02f5380860>"
      ]
     },
     "metadata": {
      "needs_background": "light"
     },
     "output_type": "display_data"
    }
   ],
   "source": [
    "### Data exploration visualization code goes here.\n",
    "### Feel free to use as many code cells as needed.\n",
    "import matplotlib.pyplot as plt\n",
    "# Visualizations will be shown in the notebook.\n",
    "%matplotlib inline\n",
    "import csv\n",
    "import random\n",
    "import numpy as np\n",
    "\n",
    "index = random.randint(0, len(X_train))\n",
    "index = 21211\n",
    "image = X_train[index].squeeze()\n",
    "\n",
    "signs = {}\n",
    "with open('./signnames.csv', newline='') as csvfile:\n",
    "    signreader = csv.reader(csvfile, delimiter=',')\n",
    "    for row in signreader:\n",
    "        try:\n",
    "            signs[int(row[0])] = row[1]\n",
    "        except ValueError:\n",
    "            continue\n",
    "\n",
    "plt.figure(figsize=(1,1))\n",
    "plt.imshow(image, cmap=\"gray\")\n",
    "plt.title('{0}: {1}'.format(y_train[index], signs[y_train[index]]))\n",
    "\n",
    "plt.figure(2)\n",
    "plt.hist(sorted(c.elements()), bins=range(n_classes))\n",
    "avg_count = int(sum(c.values()) / len(c))\n",
    "sdev_count = int(np.std(np.array(list(c.values()))))\n",
    "print()\n",
    "print('training class average label count:', avg_count)\n",
    "print('std dev of training class label count:', sdev_count)\n",
    "training_minimum = avg_count\n",
    "underrepresented_training = set([label for label, count in c.items() if c[label] < training_minimum])\n",
    "copies_to_add_training = training_minimum - min(c.values())\n",
    "print('labels below 1 std dev of average for training class label count:', underrepresented_training)\n",
    "print('training class label count minimum:', training_minimum)\n",
    "print('number of copies to add to the underrepresented training labels:', copies_to_add_training)\n",
    "plt.plot(range(n_classes), [avg_count]*n_classes, 'g')\n",
    "plt.plot(range(n_classes), [avg_count-sdev_count]*n_classes, 'r--')\n",
    "plt.plot(range(n_classes), [avg_count+sdev_count]*n_classes, 'r--')\n",
    "plt.ylabel('Count')\n",
    "plt.xlabel('Class index')\n",
    "plt.title('Histogram of Training Class Labels')\n",
    "plt.savefig('class_labels_train.png')\n",
    "\n",
    "plt.figure(7)\n",
    "plt.hist(sorted(c_valid.elements()), bins=range(n_classes))\n",
    "avg_count_valid = int(sum(c_valid.values()) / len(c_valid))\n",
    "sdev_count_valid = int(np.std(np.array(list(c_valid.values()))))\n",
    "print()\n",
    "print('validation class average label count:', avg_count_valid)\n",
    "print('std dev of validation class label count:', sdev_count_valid)\n",
    "valid_minimum = avg_count_valid\n",
    "underrepresented_valid = set([label for label, count in c_valid.items() if c_valid[label] < valid_minimum])\n",
    "copies_to_add_valid = valid_minimum - min(c_valid.values())\n",
    "print('labels below 1 std dev of average for validation class label count:', underrepresented_valid)\n",
    "print('valid class label count minimum:', valid_minimum)\n",
    "print('number of copies to add to the underrepresented validation labels:', copies_to_add_valid)\n",
    "plt.plot(range(n_classes), [avg_count_valid]*n_classes, 'g')\n",
    "plt.plot(range(n_classes), [avg_count_valid-sdev_count_valid]*n_classes, 'r--')\n",
    "plt.plot(range(n_classes), [avg_count_valid+sdev_count_valid]*n_classes, 'r--')\n",
    "plt.ylabel('Count')\n",
    "plt.xlabel('Class index')\n",
    "plt.title('Histogram of Validation Class Labels')\n",
    "plt.savefig('class_labels_valid.png')\n",
    "\n",
    "plt.figure(8)\n",
    "plt.hist(sorted(c_test.elements()), bins=range(n_classes))\n",
    "avg_count_test = int(sum(c_test.values()) / len(c_test))\n",
    "sdev_count_test = int(np.std(np.array(list(c_test.values()))))\n",
    "print()\n",
    "print('test class average label count:', avg_count_test)\n",
    "print('std dev of test class label count:', sdev_count_test)\n",
    "test_minimum = avg_count_test\n",
    "underrepresented_test = set([label for label, count in c_test.items() if c_test[label] < test_minimum])\n",
    "copies_to_add_test = test_minimum - min(c_test.values())\n",
    "print('labels below 1 std dev of average for test class label count:', underrepresented_test)\n",
    "print('test class label count minimum:', test_minimum)\n",
    "print('number of copies to add to the underrepresented test labels:', copies_to_add_test)\n",
    "plt.plot(range(n_classes), [avg_count_test]*n_classes, 'g')\n",
    "plt.plot(range(n_classes), [avg_count_test-sdev_count_test]*n_classes, 'r--')\n",
    "plt.plot(range(n_classes), [avg_count_test+sdev_count_test]*n_classes, 'r--')\n",
    "plt.ylabel('Count')\n",
    "plt.xlabel('Class index')\n",
    "plt.title('Histogram of Test Class Labels')\n",
    "\n",
    "print()\n",
    "print('Most Common training classes:')\n",
    "print(c.most_common())\n",
    "print()\n",
    "print('17 most common classes are %.3f%% of the data set' % (100.0*sum([j for i,j in c.most_common(17)])/float(sum(c.values()))))\n",
    "plt.savefig('class_labels_test.png')\n",
    "\n",
    "\n",
    "S = np.std(np.std(X_train/128.0, axis=1), axis=1)\n",
    "print('S.shape:', S.shape)\n",
    "loR = set(np.where(S[:,0] < 0.005)[0])\n",
    "loG = set(np.where(S[:,1] < 0.01)[0])\n",
    "loB = set(np.where(S[:,2] < 0.01)[0])\n",
    "print('S[index,:]=', S[index,:])\n",
    "print()\n",
    "#print('other indices of the same label:', np.where(y_train == y_train[index]))\n",
    "print('|loR|=', len(loR))\n",
    "print('|loG|=', len(loG))\n",
    "print('|loB|=', len(loB))\n",
    "print()\n",
    "#print('loR=',loR)\n",
    "#print('loG=',loG)\n",
    "#print('loB=',loB)\n",
    "print()\n",
    "lo_std = ((loR|loG|loB) - (loR^loG^loB)) | (loR&loG&loB)\n",
    "print('lo_std=',lo_std)\n",
    "print('|lo_std|=',len(lo_std))\n",
    "print()\n",
    "print('loR&loG&loB=',loR&loG&loB)\n",
    "print('|loR&loG&loB|=',len(loR&loG&loB))\n",
    "print()\n",
    "keep = list(set(range(n_train)) - lo_std)\n",
    "print('|keep|=',len(keep))"
   ]
  },
  {
   "cell_type": "markdown",
   "metadata": {},
   "source": [
    "----\n",
    "\n",
    "## Step 2: Design and Test a Model Architecture\n",
    "\n",
    "Design and implement a deep learning model that learns to recognize traffic signs. Train and test your model on the [German Traffic Sign Dataset](http://benchmark.ini.rub.de/?section=gtsrb&subsection=dataset).\n",
    "\n",
    "The LeNet-5 implementation shown in the [classroom](https://classroom.udacity.com/nanodegrees/nd013/parts/fbf77062-5703-404e-b60c-95b78b2f3f9e/modules/6df7ae49-c61c-4bb2-a23e-6527e69209ec/lessons/601ae704-1035-4287-8b11-e2c2716217ad/concepts/d4aca031-508f-4e0b-b493-e7b706120f81) at the end of the CNN lesson is a solid starting point. You'll have to change the number of classes and possibly the preprocessing, but aside from that it's plug and play! \n",
    "\n",
    "With the LeNet-5 solution from the lecture, you should expect a validation set accuracy of about 0.89. To meet specifications, the validation set accuracy will need to be at least 0.93. It is possible to get an even higher accuracy, but 0.93 is the minimum for a successful project submission. \n",
    "\n",
    "There are various aspects to consider when thinking about this problem:\n",
    "\n",
    "- Neural network architecture (is the network over or underfitting?)\n",
    "- Play around preprocessing techniques (normalization, rgb to grayscale, etc)\n",
    "- Number of examples per label (some have more than others).\n",
    "- Generate fake data.\n",
    "\n",
    "Here is an example of a [published baseline model on this problem](http://yann.lecun.com/exdb/publis/pdf/sermanet-ijcnn-11.pdf). It's not required to be familiar with the approach used in the paper but, it's good practice to try to read papers like these."
   ]
  },
  {
   "cell_type": "markdown",
   "metadata": {},
   "source": [
    "### Pre-process the Data Set (normalization, grayscale, etc.)"
   ]
  },
  {
   "cell_type": "markdown",
   "metadata": {},
   "source": [
    "Minimally, the image data should be normalized so that the data has mean zero and equal variance. For image data, `(pixel - 128)/ 128` is a quick way to approximately normalize the data and can be used in this project. \n",
    "\n",
    "Other pre-processing steps are optional. You can try different techniques to see if it improves performance. \n",
    "\n",
    "Use the code cell (or multiple code cells, if necessary) to implement the first step of your project."
   ]
  },
  {
   "cell_type": "code",
   "execution_count": 7,
   "metadata": {
    "scrolled": true
   },
   "outputs": [
    {
     "name": "stdout",
     "output_type": "stream",
     "text": [
      "Pre-Augmented: shape(Xdata, ydata)= (34658, 32, 32, 3) (34658,)\n",
      "Augmented: shape(Xdata, ydata)= (51012, 32, 32, 3) (51012,)\n",
      "\n",
      "Training Data:\n",
      "shape (X, y): (51012, 32, 32, 3) (51012,)\n",
      "mean= -0.388781558689\n",
      "std dev= 0.509503132252\n",
      "\n",
      "Validation Data:\n",
      "shape (X, y): (4385, 32, 32, 3) (4385,)\n",
      "mean= -0.345146999265\n",
      "std dev= 0.546755977081\n",
      "\n",
      "Test Data:\n",
      "shape (X, y): (12622, 32, 32, 3) (12622,)\n",
      "mean= -0.357979031352\n",
      "std dev= 0.53712458\n",
      "\n",
      "Number of training examples = 51012\n",
      "Number of validation examples = 4385\n",
      "Number of testing examples = 12622\n",
      "Image data shape = (32, 32)\n",
      "Number of classes = 43\n",
      "\n",
      "class counts: Counter({2: 2010, 1: 1979, 13: 1904, 12: 1890, 38: 1846, 10: 1795, 4: 1762, 5: 1649, 25: 1344, 14: 1319, 31: 1316, 9: 1306, 7: 1274, 8: 1260, 3: 1243, 33: 1225, 26: 1169, 15: 1169, 11: 1158, 28: 1109, 23: 1079, 35: 1075, 18: 1068, 30: 1019, 16: 989, 17: 989, 34: 989, 6: 986, 22: 959, 36: 959, 20: 929, 40: 929, 39: 899, 21: 899, 29: 869, 24: 869, 41: 839, 27: 839, 42: 839, 32: 839, 37: 809, 0: 809, 19: 805})\n"
     ]
    }
   ],
   "source": [
    "### Preprocess the data here. It is required to normalize the data. Other preprocessing steps could include \n",
    "### converting to grayscale, etc.\n",
    "### Feel free to use as many code cells as needed.\n",
    "from sklearn.utils import shuffle\n",
    "import numpy as np\n",
    "\n",
    "def prune(Xdata, Ydata):\n",
    "    S = np.std(np.std(Xdata/128.0, axis=1), axis=1)\n",
    "    N, M = S.shape\n",
    "    loR = set(np.where(S[:,0] < 0.005)[0])\n",
    "    loG = set(np.where(S[:,1] < 0.01)[0])\n",
    "    loB = set(np.where(S[:,2] < 0.01)[0])\n",
    "    lo_std = ((loR|loG|loB) - (loR^loG^loB)) | (loR&loG&loB)\n",
    "    keep = list(set(range(N)) - lo_std)\n",
    "    Xpruned = Xdata[keep]\n",
    "    Ypruned = Ydata[keep]\n",
    "    return Xpruned, Ypruned\n",
    "\n",
    "def augment_data(Xdata, Ydata, labels=[], copies_to_add=1):\n",
    "    N, W, H, Ch = Xdata.shape    \n",
    "    assert(N==len(Ydata))\n",
    "    Xdata_out = Xdata\n",
    "    Ydata_out = Ydata\n",
    "    for label in labels:\n",
    "        copy_index = Ydata.tolist().index(label)\n",
    "        copy_img = Xdata[copy_index,:,:,:]\n",
    "        #plt.figure(figsize=(1,1))\n",
    "        #plt.imshow(copy_img, cmap=\"gray\")\n",
    "        #plt.title('Image to be copied {0}: {1}'.format(copy_index, signs[label]))\n",
    "        Xdata_aug = np.zeros_like(Xdata)[:copies_to_add,:,:,:]\n",
    "        Xdata_aug[:] = copy_img\n",
    "        Ydata_aug = np.zeros_like(Ydata)[:copies_to_add]\n",
    "        Ydata_aug[:] = label\n",
    "        #print('\\tXdata_aug.shape()=', Xdata_aug.shape)\n",
    "        Xdata_out = np.concatenate((Xdata_out, Xdata_aug), axis=0)\n",
    "        Ydata_out = np.concatenate((Ydata_out, Ydata_aug), axis=0)\n",
    "    return Xdata_out, Ydata_out\n",
    "\n",
    "\n",
    "def normalize_and_shuffle(Xdata, Ydata):\n",
    "    X, Y = shuffle(Xdata, Ydata)\n",
    "#    X_gry = np.sum(X/3, axis=3, keepdims=True)\n",
    "#    X_gry = (X_gry - 128)/128\n",
    "    X = X/128.0\n",
    "    mu = 1.0\n",
    "    X = X - mu\n",
    "    return X, Y\n",
    "\n",
    "X_train, y_train = prune(X_train, y_train)\n",
    "print('Pre-Augmented: shape(Xdata, ydata)=', X_train.shape, y_train.shape)\n",
    "X_train, y_train = augment_data(X_train, y_train, labels=underrepresented_training, copies_to_add=copies_to_add_training)\n",
    "print('Augmented: shape(Xdata, ydata)=', X_train.shape, y_train.shape)\n",
    "print()\n",
    "#X_train, y_train = normalize_and_shuffle(*prune(X_train, y_train))\n",
    "X_train, y_train = normalize_and_shuffle(X_train, y_train)\n",
    "\n",
    "print('Training Data:')\n",
    "print('shape (X, y):', X_train.shape, y_train.shape)\n",
    "print('mean=', np.mean(X_train, axis=None))\n",
    "print('std dev=', np.std(X_train, axis=None))\n",
    "print()\n",
    "\n",
    "X_valid, y_valid = prune(X_valid, y_valid)\n",
    "X_valid, y_valid = normalize_and_shuffle(X_valid, y_valid)\n",
    "\n",
    "print('Validation Data:')\n",
    "print('shape (X, y):', X_valid.shape, y_valid.shape)\n",
    "print('mean=', np.mean(X_valid, axis=None))\n",
    "print('std dev=', np.std(X_valid, axis=None))\n",
    "print()\n",
    "\n",
    "X_test, y_test = prune(X_test, y_test)\n",
    "X_test, y_test = normalize_and_shuffle(X_test, y_test)\n",
    "\n",
    "print('Test Data:')\n",
    "print('shape (X, y):', X_test.shape, y_test.shape)\n",
    "print('mean=', np.mean(X_test, axis=None))\n",
    "print('std dev=', np.std(X_test, axis=None))\n",
    "print()\n",
    "\n",
    "Nchannels = 3\n",
    "\n",
    "# TODO: Number of training examples\n",
    "N, W, H, Ch = X_train.shape\n",
    "n_train = N\n",
    "assert(N==len(y_train))\n",
    "\n",
    "# TODO: Number of validation examples\n",
    "N, W, H, Ch = X_valid.shape\n",
    "n_validation = N\n",
    "assert(N==len(y_valid))\n",
    "\n",
    "# TODO: Number of testing examples.\n",
    "N, W, H, Ch = X_test.shape\n",
    "n_test = N\n",
    "assert(N==len(y_test))\n",
    "\n",
    "# TODO: What's the shape of an traffic sign image?\n",
    "image_shape = W, H\n",
    "\n",
    "# TODO: How many unique classes/labels there are in the dataset.\n",
    "from collections import Counter\n",
    "c = Counter(y_train)\n",
    "n_classes = len(c)\n",
    "\n",
    "print(\"Number of training examples =\", n_train)\n",
    "print(\"Number of validation examples =\", n_validation)\n",
    "print(\"Number of testing examples =\", n_test)\n",
    "print(\"Image data shape =\", image_shape)\n",
    "print(\"Number of classes =\", n_classes)\n",
    "print()\n",
    "print('class counts:', c)"
   ]
  },
  {
   "cell_type": "markdown",
   "metadata": {},
   "source": [
    "## Look at the distributions again"
   ]
  },
  {
   "cell_type": "code",
   "execution_count": 5,
   "metadata": {},
   "outputs": [
    {
     "name": "stdout",
     "output_type": "stream",
     "text": [
      "len(y_train)= 51012\n",
      "y_train[-1] =  26\n",
      "y_train[0] =  28\n",
      "c= Counter({2: 2010, 1: 1979, 13: 1904, 12: 1890, 38: 1846, 10: 1795, 4: 1762, 5: 1649, 25: 1344, 14: 1319, 31: 1316, 9: 1306, 7: 1274, 8: 1260, 3: 1243, 33: 1225, 15: 1169, 26: 1169, 11: 1158, 28: 1109, 23: 1079, 35: 1075, 18: 1068, 30: 1019, 16: 989, 17: 989, 34: 989, 6: 986, 22: 959, 36: 959, 40: 929, 20: 929, 21: 899, 39: 899, 29: 869, 24: 869, 41: 839, 27: 839, 32: 839, 42: 839, 37: 809, 0: 809, 19: 805})\n",
      "\n",
      "labels below 1 std dev of average for training class label count: set()\n",
      "training class label count minimum: 191\n",
      "number of copies to add to the underrepresented training labels: -614\n",
      "\n",
      "labels below 1 std dev of average for validation class label count: {32, 0, 37, 39, 41, 42, 19, 24, 27, 29}\n",
      "valid class label count minimum: 35\n",
      "number of copies to add to the underrepresented validation labels: 5\n",
      "\n",
      "labels below 1 std dev of average for test class label count: {32, 0, 37, 41, 19, 27}\n",
      "test class label count minimum: 64\n",
      "number of copies to add to the underrepresented test labels: 4\n"
     ]
    },
    {
     "data": {
      "text/plain": [
       "Text(0.5,1,'Histogram of Test Class Labels')"
      ]
     },
     "execution_count": 5,
     "metadata": {},
     "output_type": "execute_result"
    },
    {
     "data": {
      "image/png": "[encoded data removed]",
      "text/plain": [
       "<matplotlib.figure.Figure at 0x7f9ea9323630>"
      ]
     },
     "metadata": {
      "needs_background": "light"
     },
     "output_type": "display_data"
    },
    {
     "data": {
      "image/png": "[encoded data removed]",
      "text/plain": [
       "<matplotlib.figure.Figure at 0x7f9e982f4f98>"
      ]
     },
     "metadata": {
      "needs_background": "light"
     },
     "output_type": "display_data"
    },
    {
     "data": {
      "image/png": "[encoded data removed]",
      "text/plain": [
       "<matplotlib.figure.Figure at 0x7f9e9823af98>"
      ]
     },
     "metadata": {
      "needs_background": "light"
     },
     "output_type": "display_data"
    }
   ],
   "source": [
    "c = Counter(y_train)\n",
    "c_valid = Counter(y_valid)\n",
    "c_test = Counter(y_test)\n",
    "\n",
    "print('len(y_train)=',len(y_train))\n",
    "print('y_train[-1] = ', y_train[-1])\n",
    "print('y_train[0] = ', y_train[0])\n",
    "print('c=',c)\n",
    "\n",
    "plt.figure(2)\n",
    "plt.hist(sorted(c.elements()), bins=range(n_classes))\n",
    "#avg_count = int(sum(c.values()) / len(c))\n",
    "#sdev_count = int(np.std(np.array(list(c.values()))))\n",
    "print()\n",
    "#print('training class average label count:', avg_count)\n",
    "#print('std dev of training class label count:', sdev_count)\n",
    "underrepresented_training = set([label for label, count in c.items() if c[label] < (avg_count-sdev_count)])\n",
    "training_minimum = avg_count-sdev_count+1\n",
    "copies_to_add_training = training_minimum - min(c.values())\n",
    "print('labels below 1 std dev of average for training class label count:', underrepresented_training)\n",
    "print('training class label count minimum:', training_minimum)\n",
    "print('number of copies to add to the underrepresented training labels:', copies_to_add_training)\n",
    "plt.plot(range(n_classes), [avg_count]*n_classes, 'g')\n",
    "plt.plot(range(n_classes), [avg_count-sdev_count]*n_classes, 'r--')\n",
    "plt.plot(range(n_classes), [avg_count+sdev_count]*n_classes, 'r--')\n",
    "plt.ylabel('Count')\n",
    "plt.xlabel('Class index')\n",
    "plt.title('Histogram of Training Class Labels')\n",
    "plt.savefig('class_labels_train_aug.png')\n",
    "\n",
    "plt.figure(7)\n",
    "plt.hist(sorted(c_valid.elements()), bins=range(n_classes))\n",
    "#avg_count_valid = int(sum(c_valid.values()) / len(c_valid))\n",
    "#sdev_count_valid = int(np.std(np.array(list(c_valid.values()))))\n",
    "print()\n",
    "#print('validation class average label count:', avg_count_valid)\n",
    "#print('std dev of validation class label count:', sdev_count_valid)\n",
    "underrepresented_valid = set([label for label, count in c_valid.items() if c_valid[label] < (avg_count_valid-sdev_count_valid)])\n",
    "valid_minimum = avg_count_valid-sdev_count_valid + 1\n",
    "copies_to_add_valid = valid_minimum - min(c_valid.values())\n",
    "print('labels below 1 std dev of average for validation class label count:', underrepresented_valid)\n",
    "print('valid class label count minimum:', valid_minimum)\n",
    "print('number of copies to add to the underrepresented validation labels:', copies_to_add_valid)\n",
    "plt.plot(range(n_classes), [avg_count_valid]*n_classes, 'g')\n",
    "plt.plot(range(n_classes), [avg_count_valid-sdev_count_valid]*n_classes, 'r--')\n",
    "plt.plot(range(n_classes), [avg_count_valid+sdev_count_valid]*n_classes, 'r--')\n",
    "plt.ylabel('Count')\n",
    "plt.xlabel('Class index')\n",
    "plt.title('Histogram of Validation Class Labels')\n",
    "\n",
    "plt.figure(8)\n",
    "plt.hist(sorted(c_test.elements()), bins=range(n_classes))\n",
    "#avg_count_test = int(sum(c_test.values()) / len(c_test))\n",
    "#sdev_count_test = int(np.std(np.array(list(c_test.values()))))\n",
    "print()\n",
    "#print('test class average label count:', avg_count_test)\n",
    "#print('std dev of test class label count:', sdev_count_test)\n",
    "underrepresented_test = set([label for label, count in c_test.items() if c_test[label] < (avg_count_test-sdev_count_test)])\n",
    "test_minimum = avg_count_test-sdev_count_test+1\n",
    "copies_to_add_test = test_minimum - min(c_test.values())\n",
    "print('labels below 1 std dev of average for test class label count:', underrepresented_test)\n",
    "print('test class label count minimum:', test_minimum)\n",
    "print('number of copies to add to the underrepresented test labels:', copies_to_add_test)\n",
    "plt.plot(range(n_classes), [avg_count_test]*n_classes, 'g')\n",
    "plt.plot(range(n_classes), [avg_count_test-sdev_count_test]*n_classes, 'r--')\n",
    "plt.plot(range(n_classes), [avg_count_test+sdev_count_test]*n_classes, 'r--')\n",
    "plt.ylabel('Count')\n",
    "plt.xlabel('Class index')\n",
    "plt.title('Histogram of Test Class Labels')\n"
   ]
  },
  {
   "cell_type": "markdown",
   "metadata": {},
   "source": [
    "### Model Architecture"
   ]
  },
  {
   "cell_type": "code",
   "execution_count": 6,
   "metadata": {},
   "outputs": [],
   "source": [
    "### Define your architecture here.\n",
    "### Feel free to use as many code cells as needed.\n",
    "\n",
    "import tensorflow as tf\n",
    "from tensorflow.contrib.layers import flatten\n",
    "\n",
    "EPOCHS = 30\n",
    "BATCH_SIZE = 128\n",
    "\n",
    "def LeNet(x):      \n",
    "    # Arguments used for tf.truncated_normal, randomly defines variables for the weights and biases for each layer\n",
    "    mu = 0\n",
    "    sigma = 0.1\n",
    "    \n",
    "    # Layer 1: Convolutional. Input = 32x32x3. Output = 28x28x6.\n",
    "    conv1_W = tf.Variable(tf.truncated_normal(shape=(5, 5, Nchannels, 6), mean = mu, stddev = sigma))\n",
    "    conv1_b = tf.Variable(tf.zeros(6))\n",
    "    conv1   = tf.nn.conv2d(x, conv1_W, strides=[1, 1, 1, 1], padding='VALID') + conv1_b\n",
    "\n",
    "    # Activation.\n",
    "    conv1 = tf.nn.relu(conv1)\n",
    "        \n",
    "    # Pooling. Input = 28x28x6. Output = 14x14x6.\n",
    "    conv1 = tf.nn.max_pool(conv1, ksize=[1, 2, 2, 1], strides=[1, 2, 2, 1], padding='VALID')\n",
    "\n",
    "    # Layer 2: Convolutional. Output = 10x10x16.\n",
    "    conv2_W = tf.Variable(tf.truncated_normal(shape=(5, 5, 6, 16), mean = mu, stddev = sigma))\n",
    "    conv2_b = tf.Variable(tf.zeros(16))\n",
    "    conv2   = tf.nn.conv2d(conv1, conv2_W, strides=[1, 1, 1, 1], padding='VALID') + conv2_b\n",
    "    \n",
    "    # Activation.\n",
    "    conv2 = tf.nn.relu(conv2)\n",
    "        \n",
    "    # Pooling. Input = 10x10x16. Output = 5x5x16.\n",
    "    conv2 = tf.nn.max_pool(conv2, ksize=[1, 2, 2, 1], strides=[1, 2, 2, 1], padding='VALID')\n",
    "\n",
    "    # Flatten. Input = 5x5x16. Output = 400.\n",
    "    fc0   = flatten(conv2)\n",
    "    \n",
    "    # Layer 3: Fully Connected. Input = 400. Output = 3*n_classes.\n",
    "    fc1_W = tf.Variable(tf.truncated_normal(shape=(400, 20*n_classes), mean = mu, stddev = sigma))\n",
    "    fc1_b = tf.Variable(tf.zeros(20*n_classes))\n",
    "    fc1   = tf.matmul(fc0, fc1_W) + fc1_b\n",
    "    \n",
    "    # Activation.\n",
    "    fc1    = tf.nn.relu(fc1)\n",
    "    \n",
    "    # SOLUTION: Layer 4: Fully Connected. Input = 3*n_classes. Output = 2*n_classes.\n",
    "    fc2_W  = tf.Variable(tf.truncated_normal(shape=(20*n_classes, 10*n_classes), mean = mu, stddev = sigma))\n",
    "    fc2_b  = tf.Variable(tf.zeros(10*n_classes))\n",
    "    fc2    = tf.matmul(fc1, fc2_W) + fc2_b\n",
    "    \n",
    "    # Activation.\n",
    "    fc2    = tf.nn.relu(fc2)\n",
    "    \n",
    "    # Layer 5: Fully Connected. Input = 2*n_classes. Output = n_classes.\n",
    "    fc3_W  = tf.Variable(tf.truncated_normal(shape=(10*n_classes, n_classes), mean = mu, stddev = sigma))\n",
    "    fc3_b  = tf.Variable(tf.zeros(n_classes))\n",
    "    logits = tf.matmul(fc2, fc3_W) + fc3_b\n",
    "    \n",
    "    return logits"
   ]
  },
  {
   "cell_type": "code",
   "execution_count": 7,
   "metadata": {},
   "outputs": [],
   "source": [
    "x = tf.placeholder(tf.float32, (None, 32, 32, Nchannels))\n",
    "y = tf.placeholder(tf.int32, (None))\n",
    "one_hot_y = tf.one_hot(y, n_classes)"
   ]
  },
  {
   "cell_type": "code",
   "execution_count": 8,
   "metadata": {},
   "outputs": [],
   "source": [
    "rate = 0.001\n",
    "\n",
    "logits = LeNet(x)\n",
    "cross_entropy = tf.nn.softmax_cross_entropy_with_logits(labels=one_hot_y, logits=logits)\n",
    "loss_operation = tf.reduce_mean(cross_entropy)\n",
    "optimizer = tf.train.AdamOptimizer(learning_rate = rate)\n",
    "training_operation = optimizer.minimize(loss_operation)"
   ]
  },
  {
   "cell_type": "code",
   "execution_count": 9,
   "metadata": {},
   "outputs": [],
   "source": [
    "correct_prediction = tf.equal(tf.argmax(logits, 1), tf.argmax(one_hot_y, 1))\n",
    "accuracy_operation = tf.reduce_mean(tf.cast(correct_prediction, tf.float32))\n",
    "saver = tf.train.Saver()\n",
    "\n",
    "def evaluate(X_data, y_data):\n",
    "    num_examples = len(X_data)\n",
    "    total_accuracy = 0\n",
    "    sess = tf.get_default_session()\n",
    "    for offset in range(0, num_examples, BATCH_SIZE):\n",
    "        batch_x, batch_y = X_data[offset:offset+BATCH_SIZE], y_data[offset:offset+BATCH_SIZE]\n",
    "        accuracy = sess.run(accuracy_operation, feed_dict={x: batch_x, y: batch_y})\n",
    "        total_accuracy += (accuracy * len(batch_x))\n",
    "    return total_accuracy / num_examples"
   ]
  },
  {
   "cell_type": "markdown",
   "metadata": {},
   "source": [
    "### Train, Validate and Test the Model"
   ]
  },
  {
   "cell_type": "markdown",
   "metadata": {},
   "source": [
    "A validation set can be used to assess how well the model is performing. A low accuracy on the training and validation\n",
    "sets imply underfitting. A high accuracy on the training set but low accuracy on the validation set implies overfitting."
   ]
  },
  {
   "cell_type": "code",
   "execution_count": 10,
   "metadata": {
    "scrolled": true
   },
   "outputs": [
    {
     "name": "stdout",
     "output_type": "stream",
     "text": [
      "Training (30 batches of 128)...\n",
      "\n",
      "EPOCH 1 ...\n",
      "Validation Accuracy = 0.804\n",
      "EPOCH 2 ...\n",
      "Validation Accuracy = 0.879\n",
      "EPOCH 3 ...\n",
      "Validation Accuracy = 0.895\n",
      "EPOCH 4 ...\n",
      "Validation Accuracy = 0.894\n",
      "EPOCH 5 ...\n",
      "Validation Accuracy = 0.886\n",
      "EPOCH 6 ...\n",
      "Validation Accuracy = 0.885\n",
      "EPOCH 7 ...\n",
      "Validation Accuracy = 0.901\n",
      "EPOCH 8 ...\n",
      "Validation Accuracy = 0.901\n",
      "EPOCH 9 ...\n",
      "Validation Accuracy = 0.911\n",
      "EPOCH 10 ...\n",
      "Validation Accuracy = 0.912\n",
      "EPOCH 11 ...\n",
      "Validation Accuracy = 0.892\n",
      "EPOCH 12 ...\n",
      "Validation Accuracy = 0.926\n",
      "EPOCH 13 ...\n",
      "Validation Accuracy = 0.919\n",
      "EPOCH 14 ...\n",
      "Validation Accuracy = 0.906\n",
      "EPOCH 15 ...\n",
      "Validation Accuracy = 0.913\n",
      "EPOCH 16 ...\n",
      "Validation Accuracy = 0.929\n",
      "EPOCH 17 ...\n",
      "Validation Accuracy = 0.929\n",
      "EPOCH 18 ...\n",
      "Validation Accuracy = 0.928\n",
      "EPOCH 19 ...\n",
      "Validation Accuracy = 0.936\n",
      "EPOCH 20 ...\n",
      "Validation Accuracy = 0.938\n",
      "EPOCH 21 ...\n",
      "Validation Accuracy = 0.943\n",
      "EPOCH 22 ...\n",
      "Validation Accuracy = 0.944\n",
      "EPOCH 23 ...\n",
      "Validation Accuracy = 0.933\n",
      "EPOCH 24 ...\n",
      "Validation Accuracy = 0.925\n",
      "EPOCH 25 ...\n",
      "Validation Accuracy = 0.913\n",
      "EPOCH 26 ...\n",
      "Validation Accuracy = 0.909\n",
      "EPOCH 27 ...\n",
      "Validation Accuracy = 0.912\n",
      "EPOCH 28 ...\n",
      "Validation Accuracy = 0.927\n",
      "EPOCH 29 ...\n",
      "Validation Accuracy = 0.911\n",
      "EPOCH 30 ...\n",
      "Validation Accuracy = 0.923\n",
      "\n",
      "Model saved\n"
     ]
    }
   ],
   "source": [
    "### Train your model here.\n",
    "### Calculate and report the accuracy on the training and validation set.\n",
    "### Once a final model architecture is selected, \n",
    "### the accuracy on the test set should be calculated and reported as well.\n",
    "### Feel free to use as many code cells as needed.\n",
    "\n",
    "with tf.Session() as sess:\n",
    "    sess.run(tf.global_variables_initializer())\n",
    "    num_examples = len(X_train)\n",
    "    \n",
    "    print(\"Training ({0} batches of {1})...\".format(EPOCHS, BATCH_SIZE))\n",
    "    print()\n",
    "    for i in range(EPOCHS):\n",
    "        X_train, y_train = shuffle(X_train, y_train)\n",
    "        for offset in range(0, num_examples, BATCH_SIZE):\n",
    "            end = offset + BATCH_SIZE\n",
    "            batch_x, batch_y = X_train[offset:end], y_train[offset:end]\n",
    "            sess.run(training_operation, feed_dict={x: batch_x, y: batch_y})\n",
    "            \n",
    "        validation_accuracy = evaluate(X_valid, y_valid)\n",
    "        print(\"EPOCH {} ...\".format(i+1))\n",
    "        print(\"Validation Accuracy = {:.3f}\".format(validation_accuracy))\n",
    "        \n",
    "    print()\n",
    "    \n",
    "    saver.save(sess, './lenet')\n",
    "    print(\"Model saved\")"
   ]
  },
  {
   "cell_type": "code",
   "execution_count": 11,
   "metadata": {},
   "outputs": [
    {
     "name": "stdout",
     "output_type": "stream",
     "text": [
      "INFO:tensorflow:Restoring parameters from ./lenet\n",
      "Training Accuracy = 0.998\n"
     ]
    }
   ],
   "source": [
    "#from tensorflow.python.tools import inspect_checkpoint as chkp\n",
    "\n",
    "#chkp.print_tensors_in_checkpoint_file(tf.train.latest_checkpoint('.'), tensor_name='logits', all_tensors=False)\n",
    "\n",
    "\n",
    "with tf.Session() as sess:\n",
    "    saver.restore(sess, tf.train.latest_checkpoint('.'))\n",
    "    train_accuracy = evaluate(X_train, y_train)\n",
    "    print(\"Training Accuracy = {:.3f}\".format(train_accuracy))"
   ]
  },
  {
   "cell_type": "code",
   "execution_count": 12,
   "metadata": {},
   "outputs": [
    {
     "name": "stdout",
     "output_type": "stream",
     "text": [
      "INFO:tensorflow:Restoring parameters from ./lenet\n",
      "Test Accuracy = 0.916\n"
     ]
    }
   ],
   "source": [
    "with tf.Session() as sess:\n",
    "    saver.restore(sess, tf.train.latest_checkpoint('.'))\n",
    "\n",
    "    test_accuracy = evaluate(X_test, y_test)\n",
    "    print(\"Test Accuracy = {:.3f}\".format(test_accuracy))"
   ]
  },
  {
   "cell_type": "markdown",
   "metadata": {},
   "source": [
    "---\n",
    "\n",
    "## Step 3: Test a Model on New Images\n",
    "\n",
    "To give yourself more insight into how your model is working, download at least five pictures of German traffic signs from the web and use your model to predict the traffic sign type.\n",
    "\n",
    "You may find `signnames.csv` useful as it contains mappings from the class id (integer) to the actual sign name."
   ]
  },
  {
   "cell_type": "markdown",
   "metadata": {},
   "source": [
    "### Load and Output the Images"
   ]
  },
  {
   "cell_type": "code",
   "execution_count": 20,
   "metadata": {},
   "outputs": [
    {
     "name": "stdout",
     "output_type": "stream",
     "text": [
      "\tLoading ./german_traffic_signs_3.png ...\n",
      "\tLoading ./german_traffic_signs_2.png ...\n",
      "\tLoading ./german_traffic_signs_1.png ...\n",
      "\tLoading ./german_traffic_signs_4.png ...\n",
      "\tLoading ./german_traffic_signs_5.png ...\n",
      "new_signs.shape: (5, 32, 32, 3)\n"
     ]
    }
   ],
   "source": [
    "### Load the images and plot them here.\n",
    "### Feel free to use as many code cells as needed.\n",
    "import glob\n",
    "\n",
    "new_signs = np.zeros((5,32,32,3))\n",
    "i=0\n",
    "\n",
    "class_labels = {'./german_traffic_signs_1.png':3,\n",
    "                './german_traffic_signs_2.png':11,\n",
    "                './german_traffic_signs_3.png':1,\n",
    "                './german_traffic_signs_4.png':12,\n",
    "                './german_traffic_signs_5.png':18}\n",
    "\n",
    "new_labels = np.array([-1]*5)\n",
    "\n",
    "for file in glob.glob('./german_traffic_signs_*.png'):\n",
    "    print('\\tLoading', file, '...')\n",
    "    # drop the alpha (opacity) for RGBA\n",
    "    new_signs[i,:,:,:] = plt.imread(file)[:,:,:3]\n",
    "    new_labels[i] = class_labels[file]\n",
    "    i += 1\n",
    "    \n",
    "print('new_signs.shape:', new_signs.shape)\n"
   ]
  },
  {
   "cell_type": "code",
   "execution_count": 21,
   "metadata": {},
   "outputs": [
    {
     "data": {
      "image/png": "[encoded data removed]",
      "text/plain": [
       "<matplotlib.figure.Figure at 0x7f02f4ff1438>"
      ]
     },
     "metadata": {
      "needs_background": "light"
     },
     "output_type": "display_data"
    },
    {
     "data": {
      "image/png": "[encoded data removed]",
      "text/plain": [
       "<matplotlib.figure.Figure at 0x7f02f5393ef0>"
      ]
     },
     "metadata": {
      "needs_background": "light"
     },
     "output_type": "display_data"
    },
    {
     "data": {
      "image/png": "[encoded data removed]",
      "text/plain": [
       "<matplotlib.figure.Figure at 0x7f02f5304c18>"
      ]
     },
     "metadata": {
      "needs_background": "light"
     },
     "output_type": "display_data"
    },
    {
     "data": {
      "image/png": "[encoded data removed]",
      "text/plain": [
       "<matplotlib.figure.Figure at 0x7f02f5586240>"
      ]
     },
     "metadata": {
      "needs_background": "light"
     },
     "output_type": "display_data"
    },
    {
     "data": {
      "image/png": "[encoded data removed]",
      "text/plain": [
       "<matplotlib.figure.Figure at 0x7f02e3e49a58>"
      ]
     },
     "metadata": {
      "needs_background": "light"
     },
     "output_type": "display_data"
    }
   ],
   "source": [
    "# print out one of each label from the training data\n",
    "    \n",
    "for i in [3,11,1,12,18]:\n",
    "    index = y_train.tolist().index(i)\n",
    "    image = (X_train[index,:,:,:] + 1)*128\n",
    "    plt.figure(figsize=(1,1))\n",
    "    plt.imshow(image, cmap=\"gray\")\n",
    "    plt.title('{0}: {1}'.format(i, signs[i]))\n"
   ]
  },
  {
   "cell_type": "code",
   "execution_count": 22,
   "metadata": {},
   "outputs": [
    {
     "data": {
      "image/png": "[encoded data removed]",
      "text/plain": [
       "<matplotlib.figure.Figure at 0x7f02f546dfd0>"
      ]
     },
     "metadata": {
      "needs_background": "light"
     },
     "output_type": "display_data"
    },
    {
     "data": {
      "image/png": "[encoded data removed]",
      "text/plain": [
       "<matplotlib.figure.Figure at 0x7f02f50235f8>"
      ]
     },
     "metadata": {
      "needs_background": "light"
     },
     "output_type": "display_data"
    },
    {
     "data": {
      "image/png": "[encoded data removed]",
      "text/plain": [
       "<matplotlib.figure.Figure at 0x7f02f5538668>"
      ]
     },
     "metadata": {
      "needs_background": "light"
     },
     "output_type": "display_data"
    },
    {
     "data": {
      "image/png": "[encoded data removed]",
      "text/plain": [
       "<matplotlib.figure.Figure at 0x7f02f52bd0b8>"
      ]
     },
     "metadata": {
      "needs_background": "light"
     },
     "output_type": "display_data"
    },
    {
     "data": {
      "image/png": "[encoded data removed]",
      "text/plain": [
       "<matplotlib.figure.Figure at 0x7f02f5369be0>"
      ]
     },
     "metadata": {
      "needs_background": "light"
     },
     "output_type": "display_data"
    }
   ],
   "source": [
    "# label the images\n",
    "\n",
    "\n",
    "for i in range(5):\n",
    "    image = new_signs[i,:,:,:]\n",
    "    label = new_labels[i]\n",
    "    plt.figure(figsize=(1,1))\n",
    "    plt.imshow(image, cmap=\"gray\")\n",
    "    plt.title('{0}: {1}'.format(label, signs[label]))\n",
    "\n"
   ]
  },
  {
   "cell_type": "code",
   "execution_count": null,
   "metadata": {},
   "outputs": [],
   "source": [
    "# normalize the data\n",
    "new_signs = new_signs/128.0 - 1"
   ]
  },
  {
   "cell_type": "markdown",
   "metadata": {},
   "source": [
    "### Predict the Sign Type for Each Image"
   ]
  },
  {
   "cell_type": "code",
   "execution_count": 3,
   "metadata": {
    "collapsed": true
   },
   "outputs": [],
   "source": [
    "### Run the predictions here and use the model to output the prediction for each image.\n",
    "### Make sure to pre-process the images with the same pre-processing pipeline used earlier.\n",
    "### Feel free to use as many code cells as needed."
   ]
  },
  {
   "cell_type": "markdown",
   "metadata": {},
   "source": [
    "### Analyze Performance"
   ]
  },
  {
   "cell_type": "code",
   "execution_count": 4,
   "metadata": {
    "collapsed": true
   },
   "outputs": [],
   "source": [
    "### Calculate the accuracy for these 5 new images. \n",
    "### For example, if the model predicted 1 out of 5 signs correctly, it's 20% accurate on these new images."
   ]
  },
  {
   "cell_type": "markdown",
   "metadata": {},
   "source": [
    "### Output Top 5 Softmax Probabilities For Each Image Found on the Web"
   ]
  },
  {
   "cell_type": "markdown",
   "metadata": {},
   "source": [
    "For each of the new images, print out the model's softmax probabilities to show the **certainty** of the model's predictions (limit the output to the top 5 probabilities for each image). [`tf.nn.top_k`](https://www.tensorflow.org/versions/r0.12/api_docs/python/nn.html#top_k) could prove helpful here. \n",
    "\n",
    "The example below demonstrates how tf.nn.top_k can be used to find the top k predictions for each image.\n",
    "\n",
    "`tf.nn.top_k` will return the values and indices (class ids) of the top k predictions. So if k=3, for each sign, it'll return the 3 largest probabilities (out of a possible 43) and the correspoding class ids.\n",
    "\n",
    "Take this numpy array as an example. The values in the array represent predictions. The array contains softmax probabilities for five candidate images with six possible classes. `tf.nn.top_k` is used to choose the three classes with the highest probability:\n",
    "\n",
    "```\n",
    "# (5, 6) array\n",
    "a = np.array([[ 0.24879643,  0.07032244,  0.12641572,  0.34763842,  0.07893497,\n",
    "         0.12789202],\n",
    "       [ 0.28086119,  0.27569815,  0.08594638,  0.0178669 ,  0.18063401,\n",
    "         0.15899337],\n",
    "       [ 0.26076848,  0.23664738,  0.08020603,  0.07001922,  0.1134371 ,\n",
    "         0.23892179],\n",
    "       [ 0.11943333,  0.29198961,  0.02605103,  0.26234032,  0.1351348 ,\n",
    "         0.16505091],\n",
    "       [ 0.09561176,  0.34396535,  0.0643941 ,  0.16240774,  0.24206137,\n",
    "         0.09155967]])\n",
    "```\n",
    "\n",
    "Running it through `sess.run(tf.nn.top_k(tf.constant(a), k=3))` produces:\n",
    "\n",
    "```\n",
    "TopKV2(values=array([[ 0.34763842,  0.24879643,  0.12789202],\n",
    "       [ 0.28086119,  0.27569815,  0.18063401],\n",
    "       [ 0.26076848,  0.23892179,  0.23664738],\n",
    "       [ 0.29198961,  0.26234032,  0.16505091],\n",
    "       [ 0.34396535,  0.24206137,  0.16240774]]), indices=array([[3, 0, 5],\n",
    "       [0, 1, 4],\n",
    "       [0, 5, 1],\n",
    "       [1, 3, 5],\n",
    "       [1, 4, 3]], dtype=int32))\n",
    "```\n",
    "\n",
    "Looking just at the first row we get `[ 0.34763842,  0.24879643,  0.12789202]`, you can confirm these are the 3 largest probabilities in `a`. You'll also notice `[3, 0, 5]` are the corresponding indices."
   ]
  },
  {
   "cell_type": "code",
   "execution_count": 3,
   "metadata": {
    "collapsed": true
   },
   "outputs": [],
   "source": [
    "### Print out the top five softmax probabilities for the predictions on the German traffic sign images found on the web. \n",
    "### Feel free to use as many code cells as needed."
   ]
  },
  {
   "cell_type": "markdown",
   "metadata": {},
   "source": [
    "### Project Writeup\n",
    "\n",
    "Once you have completed the code implementation, document your results in a project writeup using this [template](https://github.com/udacity/CarND-Traffic-Sign-Classifier-Project/blob/master/writeup_template.md) as a guide. The writeup can be in a markdown or pdf file. "
   ]
  },
  {
   "cell_type": "markdown",
   "metadata": {},
   "source": [
    "> **Note**: Once you have completed all of the code implementations and successfully answered each question above, you may finalize your work by exporting the iPython Notebook as an HTML document. You can do this by using the menu above and navigating to  \\n\",\n",
    "    \"**File -> Download as -> HTML (.html)**. Include the finished document along with this notebook as your submission."
   ]
  },
  {
   "cell_type": "markdown",
   "metadata": {},
   "source": [
    "---\n",
    "\n",
    "## Step 4 (Optional): Visualize the Neural Network's State with Test Images\n",
    "\n",
    " This Section is not required to complete but acts as an additional excersise for understaning the output of a neural network's weights. While neural networks can be a great learning device they are often referred to as a black box. We can understand what the weights of a neural network look like better by plotting their feature maps. After successfully training your neural network you can see what it's feature maps look like by plotting the output of the network's weight layers in response to a test stimuli image. From these plotted feature maps, it's possible to see what characteristics of an image the network finds interesting. For a sign, maybe the inner network feature maps react with high activation to the sign's boundary outline or to the contrast in the sign's painted symbol.\n",
    "\n",
    " Provided for you below is the function code that allows you to get the visualization output of any tensorflow weight layer you want. The inputs to the function should be a stimuli image, one used during training or a new one you provided, and then the tensorflow variable name that represents the layer's state during the training process, for instance if you wanted to see what the [LeNet lab's](https://classroom.udacity.com/nanodegrees/nd013/parts/fbf77062-5703-404e-b60c-95b78b2f3f9e/modules/6df7ae49-c61c-4bb2-a23e-6527e69209ec/lessons/601ae704-1035-4287-8b11-e2c2716217ad/concepts/d4aca031-508f-4e0b-b493-e7b706120f81) feature maps looked like for it's second convolutional layer you could enter conv2 as the tf_activation variable.\n",
    "\n",
    "For an example of what feature map outputs look like, check out NVIDIA's results in their paper [End-to-End Deep Learning for Self-Driving Cars](https://devblogs.nvidia.com/parallelforall/deep-learning-self-driving-cars/) in the section Visualization of internal CNN State. NVIDIA was able to show that their network's inner weights had high activations to road boundary lines by comparing feature maps from an image with a clear path to one without. Try experimenting with a similar test to show that your trained network's weights are looking for interesting features, whether it's looking at differences in feature maps from images with or without a sign, or even what feature maps look like in a trained network vs a completely untrained one on the same sign image.\n",
    "\n",
    "<figure>\n",
    " <img src=\"visualize_cnn.png\" width=\"380\" alt=\"Combined Image\" />\n",
    " <figcaption>\n",
    " <p></p> \n",
    " <p style=\"text-align: center;\"> Your output should look something like this (above)</p> \n",
    " </figcaption>\n",
    "</figure>\n",
    " <p></p> \n"
   ]
  },
  {
   "cell_type": "code",
   "execution_count": null,
   "metadata": {
    "collapsed": true
   },
   "outputs": [],
   "source": [
    "### Visualize your network's feature maps here.\n",
    "### Feel free to use as many code cells as needed.\n",
    "\n",
    "# image_input: the test image being fed into the network to produce the feature maps\n",
    "# tf_activation: should be a tf variable name used during your training procedure that represents the calculated state of a specific weight layer\n",
    "# activation_min/max: can be used to view the activation contrast in more detail, by default matplot sets min and max to the actual min and max values of the output\n",
    "# plt_num: used to plot out multiple different weight feature map sets on the same block, just extend the plt number for each new feature map entry\n",
    "\n",
    "def outputFeatureMap(image_input, tf_activation, activation_min=-1, activation_max=-1 ,plt_num=1):\n",
    "    # Here make sure to preprocess your image_input in a way your network expects\n",
    "    # with size, normalization, ect if needed\n",
    "    # image_input =\n",
    "    # Note: x should be the same name as your network's tensorflow data placeholder variable\n",
    "    # If you get an error tf_activation is not defined it may be having trouble accessing the variable from inside a function\n",
    "    activation = tf_activation.eval(session=sess,feed_dict={x : image_input})\n",
    "    featuremaps = activation.shape[3]\n",
    "    plt.figure(plt_num, figsize=(15,15))\n",
    "    for featuremap in range(featuremaps):\n",
    "        plt.subplot(6,8, featuremap+1) # sets the number of feature maps to show on each row and column\n",
    "        plt.title('FeatureMap ' + str(featuremap)) # displays the feature map number\n",
    "        if activation_min != -1 & activation_max != -1:\n",
    "            plt.imshow(activation[0,:,:, featuremap], interpolation=\"nearest\", vmin =activation_min, vmax=activation_max, cmap=\"gray\")\n",
    "        elif activation_max != -1:\n",
    "            plt.imshow(activation[0,:,:, featuremap], interpolation=\"nearest\", vmax=activation_max, cmap=\"gray\")\n",
    "        elif activation_min !=-1:\n",
    "            plt.imshow(activation[0,:,:, featuremap], interpolation=\"nearest\", vmin=activation_min, cmap=\"gray\")\n",
    "        else:\n",
    "            plt.imshow(activation[0,:,:, featuremap], interpolation=\"nearest\", cmap=\"gray\")"
   ]
  }
 ],
 "metadata": {
  "anaconda-cloud": {},
  "kernelspec": {
   "display_name": "Python 3",
   "language": "python",
   "name": "python3"
  },
  "language_info": {
   "codemirror_mode": {
    "name": "ipython",
    "version": 3
   },
   "file_extension": ".py",
   "mimetype": "text/x-python",
   "name": "python",
   "nbconvert_exporter": "python",
   "pygments_lexer": "ipython3",
   "version": "3.6.3"
  }
 },
 "nbformat": 4,
 "nbformat_minor": 1
}
